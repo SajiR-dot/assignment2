{
 "cells": [
  {
   "cell_type": "code",
   "execution_count": 1,
   "id": "4f567f95-5fd2-4b4d-9b2c-6e7a4a763eff",
   "metadata": {},
   "outputs": [],
   "source": [
    "#String based assignment question\n",
    "#Question number 1\n",
    "#program to reverse a string"
   ]
  },
  {
   "cell_type": "code",
   "execution_count": 2,
   "id": "051ac120-d510-4c84-b772-ece6c3182a77",
   "metadata": {},
   "outputs": [
    {
     "name": "stdin",
     "output_type": "stream",
     "text": [
      "Enter the string: loose\n"
     ]
    },
    {
     "data": {
      "text/plain": [
       "'esool'"
      ]
     },
     "execution_count": 2,
     "metadata": {},
     "output_type": "execute_result"
    }
   ],
   "source": [
    "s = input(\"Enter the string:\")\n",
    "s[::-1]"
   ]
  },
  {
   "cell_type": "code",
   "execution_count": null,
   "id": "5ee3b302-b4e6-41d1-8acd-773bf01fc021",
   "metadata": {},
   "outputs": [
    {
     "name": "stdin",
     "output_type": "stream",
     "text": [
      "Enter the string: efde\n"
     ]
    },
    {
     "name": "stdout",
     "output_type": "stream",
     "text": [
      "It is not a palindrome\n"
     ]
    }
   ],
   "source": [
    "#Question number 2\n",
    "#check if a string is a palindrome\n",
    "\n",
    "s = input(\"Enter the string:\")\n",
    "if s==s[::-1]:\n",
    "    print(\"It is a palindrome\")\n",
    "else:\n",
    "    print(\"It is not a palindrome\")"
   ]
  },
  {
   "cell_type": "code",
   "execution_count": 5,
   "id": "4425f57e-4e07-49f4-a41e-60f1ec90d13d",
   "metadata": {},
   "outputs": [
    {
     "name": "stdin",
     "output_type": "stream",
     "text": [
      "Enter the string shady\n"
     ]
    },
    {
     "data": {
      "text/plain": [
       "'SHADY'"
      ]
     },
     "execution_count": 5,
     "metadata": {},
     "output_type": "execute_result"
    }
   ],
   "source": [
    "#Question number 3\n",
    "#convert a string to uppercase\n",
    "\n",
    "s = input(\"Enter the string:\").upper()\n",
    "s"
   ]
  },
  {
   "cell_type": "code",
   "execution_count": 6,
   "id": "1a3dcc77-a4fe-431d-9b8e-35299708a580",
   "metadata": {},
   "outputs": [
    {
     "name": "stdin",
     "output_type": "stream",
     "text": [
      "Enter the string: SAJI \n"
     ]
    },
    {
     "data": {
      "text/plain": [
       "'saji '"
      ]
     },
     "execution_count": 6,
     "metadata": {},
     "output_type": "execute_result"
    }
   ],
   "source": [
    "#Question number 4\n",
    "#Convert a string to lower case\n",
    "\n",
    "s = input(\"Enter the string:\").lower()\n",
    "s"
   ]
  },
  {
   "cell_type": "code",
   "execution_count": 9,
   "id": "ca3f5092-39c5-4f79-ae50-30234dd41d4b",
   "metadata": {},
   "outputs": [
    {
     "name": "stdin",
     "output_type": "stream",
     "text": [
      "Enter the string: saji\n"
     ]
    },
    {
     "data": {
      "text/plain": [
       "2"
      ]
     },
     "execution_count": 9,
     "metadata": {},
     "output_type": "execute_result"
    }
   ],
   "source": [
    "#Question number 5\n",
    "#count the number of vowels in a string\n",
    "\n",
    "s = input(\"Enter the string:\").lower()\n",
    "a = s.count(\"a\")\n",
    "e = s.count(\"e\")\n",
    "i = s.count(\"i\")\n",
    "o = s.count(\"o\")\n",
    "u = s.count(\"u\")\n",
    "vowels = (a + e + i + o + u)\n",
    "vowels"
   ]
  },
  {
   "cell_type": "code",
   "execution_count": 14,
   "id": "3e14bba2-6524-4bc3-a385-2cc5696701ae",
   "metadata": {},
   "outputs": [
    {
     "name": "stdin",
     "output_type": "stream",
     "text": [
      "Enter the string: hey\n"
     ]
    },
    {
     "name": "stdout",
     "output_type": "stream",
     "text": [
      "2\n"
     ]
    }
   ],
   "source": [
    "#Question number 6\n",
    "#count the number of consonants in a string\n",
    "\n",
    "vowels = [\"a\",\"e\",\"i\",\"o\",\"u\"]\n",
    "consonants = 0\n",
    "\n",
    "s = input(\"Enter the string:\").lower()\n",
    "for i in s:\n",
    "    if i not in vowels:\n",
    "        consonants+=1\n",
    "print(consonants)"
   ]
  },
  {
   "cell_type": "code",
   "execution_count": 4,
   "id": "922546cc-41c4-4e26-ad48-ce00fcaf520c",
   "metadata": {},
   "outputs": [
    {
     "name": "stdin",
     "output_type": "stream",
     "text": [
      "Enter the string: \" saji \"\n"
     ]
    },
    {
     "data": {
      "text/plain": [
       "'\"saji\"'"
      ]
     },
     "execution_count": 4,
     "metadata": {},
     "output_type": "execute_result"
    }
   ],
   "source": [
    "#Question number 7\n",
    "#remove the whitespaces from the string\n",
    "\n",
    "s = input(\"Enter the string:\")\n",
    "s.replace(\" \",\"\")"
   ]
  },
  {
   "cell_type": "code",
   "execution_count": 6,
   "id": "059048d2-5335-4e76-a4d5-c0c86b25e784",
   "metadata": {},
   "outputs": [
    {
     "name": "stdin",
     "output_type": "stream",
     "text": [
      "Enter the string: sajeeth r\n"
     ]
    },
    {
     "name": "stdout",
     "output_type": "stream",
     "text": [
      "9\n"
     ]
    }
   ],
   "source": [
    "#Question number 8\n",
    "#find the length of the string without using len()\n",
    "\n",
    "length = 0\n",
    "s = input(\"Enter the string:\")\n",
    "for i in s:\n",
    "    length+=1\n",
    "print(length)"
   ]
  },
  {
   "cell_type": "code",
   "execution_count": 13,
   "id": "d50bf442-e648-4e30-9b4e-fc71cb2c3a93",
   "metadata": {},
   "outputs": [
    {
     "name": "stdin",
     "output_type": "stream",
     "text": [
      "Enter the string: shady\n",
      "Enter the word: z\n"
     ]
    },
    {
     "name": "stdout",
     "output_type": "stream",
     "text": [
      "Sorry, the word you entered is not present\n"
     ]
    }
   ],
   "source": [
    "#Question number 9\n",
    "#check if a string contains a specific word\n",
    "\n",
    "string = input(\"Enter the string:\")\n",
    "word = input(\"Enter the word:\")\n",
    "if word in string:\n",
    "        print(\"Yes,the word is present in the string\")\n",
    "else:\n",
    "    print(\"Sorry, the word you entered is not present\")"
   ]
  },
  {
   "cell_type": "code",
   "execution_count": 18,
   "id": "9be85fdc-1aec-432e-9d0f-f3a0f50751eb",
   "metadata": {},
   "outputs": [
    {
     "name": "stdin",
     "output_type": "stream",
     "text": [
      "Enter the string: shady\n",
      "Enter the word you want to replace: s\n",
      "Enter the replacement word: a\n"
     ]
    },
    {
     "data": {
      "text/plain": [
       "'ahady'"
      ]
     },
     "execution_count": 18,
     "metadata": {},
     "output_type": "execute_result"
    }
   ],
   "source": [
    "#Question number 10\n",
    "#replace a word in a string with another word\n",
    "\n",
    "string = input(\"Enter the string:\")\n",
    "word = input(\"Enter the word you want to replace:\")\n",
    "replace_word = input(\"Enter the replacement word:\")\n",
    "string.replace(word,replace_word)\n",
    "\n"
   ]
  },
  {
   "cell_type": "code",
   "execution_count": 19,
   "id": "87b1f806-ebf0-4b87-a942-57e8685f1094",
   "metadata": {},
   "outputs": [
    {
     "name": "stdin",
     "output_type": "stream",
     "text": [
      "Enter the string: elephant\n",
      "Enter the word: e\n"
     ]
    },
    {
     "data": {
      "text/plain": [
       "2"
      ]
     },
     "execution_count": 19,
     "metadata": {},
     "output_type": "execute_result"
    }
   ],
   "source": [
    "#Question 11\n",
    "#count the occurences of a word in a string\n",
    "\n",
    "s = input(\"Enter the string:\")\n",
    "word =  input(\"Enter the word:\")\n",
    "s.count(word)"
   ]
  },
  {
   "cell_type": "code",
   "execution_count": 29,
   "id": "7b9e5185-c9a4-4284-a5e2-00e5ea5e5f37",
   "metadata": {},
   "outputs": [
    {
     "name": "stdin",
     "output_type": "stream",
     "text": [
      "Enter the string: ant\n",
      "Enter the word: t\n"
     ]
    },
    {
     "name": "stdout",
     "output_type": "stream",
     "text": [
      "This is the first occurence of the word is in the 2th index\n"
     ]
    }
   ],
   "source": [
    "#Question 12\n",
    "#find the first occurence of a word in a string\n",
    "s = input(\"Enter the string:\")\n",
    "word = input(\"Enter the word:\")\n",
    "counter = 0\n",
    "for i in s:\n",
    "    counter+=1\n",
    "    if i==word:\n",
    "        break\n",
    "print(f\"This is the first occurence of the word is in the {counter-1} index\")"
   ]
  },
  {
   "cell_type": "code",
   "execution_count": 40,
   "id": "6e29735f-9b68-4733-b311-ace8d260a0b1",
   "metadata": {},
   "outputs": [
    {
     "name": "stdin",
     "output_type": "stream",
     "text": [
      "Enter the string: happy\n",
      "Enter the word: p\n"
     ]
    },
    {
     "name": "stdout",
     "output_type": "stream",
     "text": [
      "This is the last occurence of the word is in the -2 index\n"
     ]
    }
   ],
   "source": [
    "#Question 13\n",
    "#find the last occurence of a word in a string\n",
    "\n",
    "s = input(\"Enter the string:\")\n",
    "word = input(\"Enter the word:\")\n",
    "counter = 0\n",
    "for i in s[::-1]:\n",
    "    counter+=-1\n",
    "    if i==word:\n",
    "        break\n",
    "print(f\"This is the last occurence of the word is in the {counter} index\")\n"
   ]
  },
  {
   "cell_type": "code",
   "execution_count": 43,
   "id": "cf6da870-24ef-4a25-805f-30949aa40ca7",
   "metadata": {},
   "outputs": [
    {
     "name": "stdin",
     "output_type": "stream",
     "text": [
      "Enter the string: hello\n"
     ]
    },
    {
     "data": {
      "text/plain": [
       "['h', 'e', 'l', 'l', 'o']"
      ]
     },
     "execution_count": 43,
     "metadata": {},
     "output_type": "execute_result"
    }
   ],
   "source": [
    "#Question 14\n",
    "#split a string into list of words\n",
    "\n",
    "s = input(\"Enter the string:\")\n",
    "l = []\n",
    "l.extend(s)\n",
    "l"
   ]
  },
  {
   "cell_type": "code",
   "execution_count": 44,
   "id": "b180454b-7f7c-4027-a83b-63a10b03daab",
   "metadata": {},
   "outputs": [
    {
     "data": {
      "text/plain": [
       "'hellohelloworldhellopython'"
      ]
     },
     "execution_count": 44,
     "metadata": {},
     "output_type": "execute_result"
    }
   ],
   "source": [
    "#Question 15\n",
    "#join a list of words into string\n",
    "\n",
    "l = [\"hello\",\"world\",\"python\"]\n",
    "s.join(l)\n",
    "\n",
    "\n"
   ]
  },
  {
   "cell_type": "code",
   "execution_count": 1,
   "id": "5b71b54d-f9aa-4d6e-a376-677fc8bb815c",
   "metadata": {},
   "outputs": [
    {
     "name": "stdin",
     "output_type": "stream",
     "text": [
      "Enter the string: s a j i \n"
     ]
    },
    {
     "data": {
      "text/plain": [
       "'s_a_j_i_'"
      ]
     },
     "execution_count": 1,
     "metadata": {},
     "output_type": "execute_result"
    }
   ],
   "source": [
    "#Question 16\n",
    "#convert a string where words are seperated by spaces to underscores\n",
    "\n",
    "s = input(\"Enter the string:\")\n",
    "s.replace(\" \",\"_\")"
   ]
  },
  {
   "cell_type": "code",
   "execution_count": 8,
   "id": "4af133a9-f984-4de4-9023-1cf58f1abf40",
   "metadata": {},
   "outputs": [
    {
     "name": "stdin",
     "output_type": "stream",
     "text": [
      "Enter the string: dsds\n",
      "Enter the word: s\n"
     ]
    },
    {
     "name": "stdout",
     "output_type": "stream",
     "text": [
      "No, the string 'dsds' does'nt start with the word 's' \n"
     ]
    }
   ],
   "source": [
    "#Question 17\n",
    "#check if a string starts with specific word or phrase\n",
    "\n",
    "s = input(\"Enter the string:\")\n",
    "word = input(\"Enter the word:\")\n",
    "if word==s[0]:\n",
    "    print(f\"Yes, the string '{s}' starts with the word '{word}' \")\n",
    "else:\n",
    "    print(f\"No, the string '{s}' doesn't start with the word '{word}' \")"
   ]
  },
  {
   "cell_type": "code",
   "execution_count": 13,
   "id": "ad049694-4df8-4232-9c07-6f3484f37d45",
   "metadata": {},
   "outputs": [
    {
     "name": "stdin",
     "output_type": "stream",
     "text": [
      "Enter the string: saji\n",
      "Enter the word: i\n"
     ]
    },
    {
     "name": "stdout",
     "output_type": "stream",
     "text": [
      "Yes, the string 'saji' ends with the word 'i'. \n"
     ]
    }
   ],
   "source": [
    "#Question 18\n",
    "#check if the string ends with the specific phrase\n",
    "\n",
    "s = input(\"Enter the string:\")\n",
    "word = input(\"Enter the word:\")\n",
    "if word==s[::-1][0]:\n",
    "    print(f\"Yes, the string '{s}' ends with the word '{word}'. \")\n",
    "else:\n",
    "     print(f\"No, the string '{s}' doesn't end with the word '{word}'. \")\n",
    "    "
   ]
  },
  {
   "cell_type": "code",
   "execution_count": 10,
   "id": "64ee8eae-52e3-4fd7-9cf2-3c9f7ed163f1",
   "metadata": {},
   "outputs": [
    {
     "data": {
      "text/plain": [
       "'ijas'"
      ]
     },
     "execution_count": 10,
     "metadata": {},
     "output_type": "execute_result"
    }
   ],
   "source": [
    "s[::-1]\n"
   ]
  },
  {
   "cell_type": "code",
   "execution_count": 14,
   "id": "708c8fbb-b03f-466a-93d7-6ed7dd8a31e4",
   "metadata": {},
   "outputs": [
    {
     "name": "stdin",
     "output_type": "stream",
     "text": [
      "Enter the string: saji the coder\n"
     ]
    },
    {
     "data": {
      "text/plain": [
       "'Saji The Coder'"
      ]
     },
     "execution_count": 14,
     "metadata": {},
     "output_type": "execute_result"
    }
   ],
   "source": [
    "#Question 19\n",
    "#Convert string to a title case\n",
    "\n",
    "s = input(\"Enter the string:\")\n",
    "s.title()"
   ]
  },
  {
   "cell_type": "code",
   "execution_count": 23,
   "id": "4ef02877-5dfe-41b8-add1-1fe3a1767eaa",
   "metadata": {},
   "outputs": [
    {
     "name": "stdin",
     "output_type": "stream",
     "text": [
      "Enter the string: hi my name is slim shady\n"
     ]
    },
    {
     "name": "stdout",
     "output_type": "stream",
     "text": [
      "shady\n",
      "The word is 'shady' and the length is 5. \n"
     ]
    }
   ],
   "source": [
    "#Question 20\n",
    "#find the longest word in the string\n",
    "\n",
    "s = input(\"Enter the string:\")\n",
    "l = s.split()\n",
    "max = l[0]\n",
    "for i in range(0,len(l)):\n",
    "    if len(l[0])<len(l[i]):\n",
    "        max = (l[i])\n",
    "print(max)\n",
    "print(f\"The word is '{max}' and the length is {len(max)}. \")"
   ]
  },
  {
   "cell_type": "code",
   "execution_count": 25,
   "id": "44c948ed-e043-47eb-9a92-618ecd08443e",
   "metadata": {},
   "outputs": [
    {
     "name": "stdin",
     "output_type": "stream",
     "text": [
      "Enter the string: my neme is\n"
     ]
    },
    {
     "name": "stdout",
     "output_type": "stream",
     "text": [
      "shady\n",
      "The word is 'my' and the length is 2. \n"
     ]
    }
   ],
   "source": [
    "#Question 21\n",
    "#find the shortest word in the string\n",
    "\n",
    "s = input(\"Enter the string:\")\n",
    "l = s.split()\n",
    "min = l[0]\n",
    "for i in range(0,len(l)):\n",
    "    if len(l[0])>len(l[i]):\n",
    "        min = (l[i])\n",
    "print(max)\n",
    "print(f\"The word is '{min}' and the length is {len(min)}. \")\n",
    "\n",
    "\n"
   ]
  },
  {
   "cell_type": "code",
   "execution_count": 1,
   "id": "010fa0c2-41d7-4405-881d-0beca6e761bf",
   "metadata": {},
   "outputs": [
    {
     "name": "stdin",
     "output_type": "stream",
     "text": [
      "Enter the string: buu\n"
     ]
    },
    {
     "data": {
      "text/plain": [
       "'uub'"
      ]
     },
     "execution_count": 1,
     "metadata": {},
     "output_type": "execute_result"
    }
   ],
   "source": [
    "#Question number 22\n",
    "#Reverse the order of the words in a string\n",
    "\n",
    "s = input(\"Enter the string:\")\n",
    "s[::-1]"
   ]
  },
  {
   "cell_type": "code",
   "execution_count": 9,
   "id": "38811061-4060-4766-8486-fea3f6455410",
   "metadata": {},
   "outputs": [
    {
     "name": "stdin",
     "output_type": "stream",
     "text": [
      "Enter the string: sdff 12\n"
     ]
    },
    {
     "name": "stdout",
     "output_type": "stream",
     "text": [
      "No the string is not alphanumeric\n"
     ]
    }
   ],
   "source": [
    "#Question number 23\n",
    "s = input(\"Enter the string:\")\n",
    "\n",
    "if s.isalnum():\n",
    "    print(\"The string is alphanumeric\")\n",
    "else:\n",
    "    print(\"No the string is not alphanumeric\")\n"
   ]
  },
  {
   "cell_type": "code",
   "execution_count": 9,
   "id": "f8e849e3-6300-4cc0-82f3-17d64c30b28a",
   "metadata": {},
   "outputs": [
    {
     "name": "stdin",
     "output_type": "stream",
     "text": [
      "Enter the string: 12345dasgfg\n"
     ]
    },
    {
     "name": "stdout",
     "output_type": "stream",
     "text": [
      "[1, 2, 3, 4, 5]\n"
     ]
    }
   ],
   "source": [
    "#Question number 24\n",
    "#extract all digits from string\n",
    "\n",
    "l1 = []\n",
    "l2 = []\n",
    "s = input(\"Enter the string:\")\n",
    "l1.extend(s)\n",
    "for i in l1:\n",
    "    if i.isnumeric():\n",
    "        l2.append(int(i))\n",
    "print(f\"The numbers in the string are {l2}\")      \n",
    "        "
   ]
  },
  {
   "cell_type": "code",
   "execution_count": 12,
   "id": "506b643a-db05-4f7b-9343-57ecb0c7abfb",
   "metadata": {},
   "outputs": [
    {
     "name": "stdin",
     "output_type": "stream",
     "text": [
      "Enter the string: the name is shady12334444\n"
     ]
    },
    {
     "name": "stdout",
     "output_type": "stream",
     "text": [
      "The alphabets in the string are ['t', 'h', 'e', ' ', 'n', 'a', 'm', 'e', ' ', 'i', 's', ' ', 's', 'h', 'a', 'd', 'y']\n"
     ]
    }
   ],
   "source": [
    "#Question number 25\n",
    "#extract all alphabets from the given string\n",
    "\n",
    "l1 = []\n",
    "l2 = []\n",
    "s = input(\"Enter the string:\")\n",
    "l1.extend(s)\n",
    "for i in l1:\n",
    "    if not i.isnumeric(): \n",
    "        l2.append(i)\n",
    "print(f\"The alphabets in the string are {l2}\")      \n",
    "        "
   ]
  },
  {
   "cell_type": "code",
   "execution_count": 14,
   "id": "38273f9f-757a-4e0b-940b-1fef107cd603",
   "metadata": {},
   "outputs": [
    {
     "name": "stdin",
     "output_type": "stream",
     "text": [
      "Enter the string: SHady\n"
     ]
    },
    {
     "name": "stdout",
     "output_type": "stream",
     "text": [
      "2\n"
     ]
    }
   ],
   "source": [
    "#Question number 26\n",
    "#count the number of uppercase letters in the string\n",
    "\n",
    "s = input(\"Enter the string:\")\n",
    "counter = 0\n",
    "for i in s:\n",
    "    if i.isupper():\n",
    "        counter+=1\n",
    "print(counter)"
   ]
  },
  {
   "cell_type": "code",
   "execution_count": 15,
   "id": "25d24279-cbca-4159-bf28-fd4d8da9e381",
   "metadata": {},
   "outputs": [
    {
     "name": "stdin",
     "output_type": "stream",
     "text": [
      "Enter the string: abcdABCD\n"
     ]
    },
    {
     "name": "stdout",
     "output_type": "stream",
     "text": [
      "4\n"
     ]
    }
   ],
   "source": [
    "#Question number 27\n",
    "#count the number of lowercase letters in the string\n",
    "\n",
    "s = input(\"Enter the string:\")\n",
    "counter = 0\n",
    "for i in s:\n",
    "    if i.islower():\n",
    "        counter+=1\n",
    "print(counter)"
   ]
  },
  {
   "cell_type": "code",
   "execution_count": 4,
   "id": "134f33f7-5a59-4cfa-a546-dc4f1ddfc640",
   "metadata": {},
   "outputs": [
    {
     "name": "stdin",
     "output_type": "stream",
     "text": [
      "Enter the string: SaJI\n"
     ]
    },
    {
     "name": "stdout",
     "output_type": "stream",
     "text": [
      "sAji\n"
     ]
    }
   ],
   "source": [
    "#Question number 28\n",
    "#swap the case of each character in the string\n",
    "\n",
    "word = \"\"\n",
    "s = input(\"Enter the string:\")\n",
    "for i in s:\n",
    "    if i.isupper():\n",
    "        word+=i.lower()\n",
    "    else:\n",
    "        word+=i.upper()\n",
    "print(f\"The case changed word is {word}\")"
   ]
  },
  {
   "cell_type": "code",
   "execution_count": 6,
   "id": "ddbf6794-87db-4c8e-981a-8dce420252f4",
   "metadata": {},
   "outputs": [
    {
     "name": "stdin",
     "output_type": "stream",
     "text": [
      "Enter the string: sajeeth\n",
      "Enter the word that your want to remove: sajeeth\n"
     ]
    },
    {
     "data": {
      "text/plain": [
       "''"
      ]
     },
     "execution_count": 6,
     "metadata": {},
     "output_type": "execute_result"
    }
   ],
   "source": [
    "#Question number 29\n",
    "#remove a particular word from a string\n",
    "\n",
    "s = input(\"Enter the string:\")\n",
    "word = input(\"Enter the word that your want to remove:\")\n",
    "s.replace(word,\"\")"
   ]
  },
  {
   "cell_type": "code",
   "execution_count": 31,
   "id": "21aa81ea-8262-4be4-baa0-28f4a7d346a7",
   "metadata": {},
   "outputs": [
    {
     "name": "stdin",
     "output_type": "stream",
     "text": [
      "Enter your email id: asas\n"
     ]
    },
    {
     "name": "stdout",
     "output_type": "stream",
     "text": [
      "The email id is not valid\n"
     ]
    }
   ],
   "source": [
    "#Question number 30\n",
    "#check if a string is a valid email address\n",
    "\n",
    "email_id = [\"saji122011@gmail.com\",\"shady@gmail.com\"]\n",
    "email = input(\"Enter your email id:\")\n",
    "if email in email_id:\n",
    "    print(\"The email id is valid\")\n",
    "else:\n",
    "    print(\"The email id is not valid\")\n",
    "    "
   ]
  },
  {
   "cell_type": "code",
   "execution_count": 32,
   "id": "a9eadf73-ab09-4a28-ada6-32336e15c1ac",
   "metadata": {},
   "outputs": [
    {
     "name": "stdin",
     "output_type": "stream",
     "text": [
      "Enter your email id: gfgdf\n"
     ]
    },
    {
     "ename": "ValueError",
     "evalue": "substring not found",
     "output_type": "error",
     "traceback": [
      "\u001b[0;31m---------------------------------------------------------------------------\u001b[0m",
      "\u001b[0;31mValueError\u001b[0m                                Traceback (most recent call last)",
      "Cell \u001b[0;32mIn[32], line 5\u001b[0m\n\u001b[1;32m      1\u001b[0m \u001b[38;5;66;03m#Question number 31\u001b[39;00m\n\u001b[1;32m      2\u001b[0m \u001b[38;5;66;03m#extract the username from an email address string\u001b[39;00m\n\u001b[1;32m      4\u001b[0m email_id \u001b[38;5;241m=\u001b[39m \u001b[38;5;28minput\u001b[39m(\u001b[38;5;124m\"\u001b[39m\u001b[38;5;124mEnter your email id:\u001b[39m\u001b[38;5;124m\"\u001b[39m)\n\u001b[0;32m----> 5\u001b[0m index \u001b[38;5;241m=\u001b[39m \u001b[43memail_id\u001b[49m\u001b[38;5;241;43m.\u001b[39;49m\u001b[43mindex\u001b[49m\u001b[43m(\u001b[49m\u001b[38;5;124;43m\"\u001b[39;49m\u001b[38;5;124;43m@\u001b[39;49m\u001b[38;5;124;43m\"\u001b[39;49m\u001b[43m)\u001b[49m\n\u001b[1;32m      6\u001b[0m username \u001b[38;5;241m=\u001b[39memail_id[\u001b[38;5;241m0\u001b[39m:index]\n\u001b[1;32m      7\u001b[0m \u001b[38;5;28mprint\u001b[39m(\u001b[38;5;124mf\u001b[39m\u001b[38;5;124m\"\u001b[39m\u001b[38;5;124mThe Username is \u001b[39m\u001b[38;5;132;01m{\u001b[39;00musername\u001b[38;5;132;01m}\u001b[39;00m\u001b[38;5;124m\"\u001b[39m)\n",
      "\u001b[0;31mValueError\u001b[0m: substring not found"
     ]
    }
   ],
   "source": [
    "#Question number 31\n",
    "#extract the username from an email address string\n",
    "\n",
    "email_id = input(\"Enter your email id:\")\n",
    "index = email_id.index(\"@\")\n",
    "username =email_id[0:index]\n",
    "print(f\"The Username is {username}\")\n",
    "\n"
   ]
  },
  {
   "cell_type": "code",
   "execution_count": 15,
   "id": "d48f4141-0166-4b33-8ead-76e599d6dc1d",
   "metadata": {},
   "outputs": [
    {
     "name": "stdin",
     "output_type": "stream",
     "text": [
      "Enter your email id: saji1234@yhoo.com\n"
     ]
    },
    {
     "name": "stdout",
     "output_type": "stream",
     "text": [
      "The domain is yhoo.com\n"
     ]
    }
   ],
   "source": [
    "#Question number 32\n",
    "#Extract the domain name from the email address\n",
    "\n",
    "email_id = input(\"Enter your email id:\")\n",
    "index = email_id.index(\"@\")+1\n",
    "domain = email_id[index:]\n",
    "print(f\"The domain is {domain}\")\n",
    "\n"
   ]
  },
  {
   "cell_type": "code",
   "execution_count": 17,
   "id": "ee7d74a1-f7e6-405e-857a-57efbb8c4881",
   "metadata": {},
   "outputs": [
    {
     "name": "stdin",
     "output_type": "stream",
     "text": [
      "Enter the string:  \"  saji   \n"
     ]
    },
    {
     "data": {
      "text/plain": [
       "'\" saji'"
      ]
     },
     "execution_count": 17,
     "metadata": {},
     "output_type": "execute_result"
    }
   ],
   "source": [
    "#Question number 33\n",
    "#replace multiple spaces in a string with a single space\n",
    "\n",
    "s = input(\"Enter the string:\").split()\n",
    "\" \".join(s)\n"
   ]
  },
  {
   "cell_type": "code",
   "execution_count": null,
   "id": "8336cf06-c61a-4949-a372-42e5a3dfccaf",
   "metadata": {},
   "outputs": [
    {
     "name": "stdin",
     "output_type": "stream",
     "text": [
      "Enter the url: https://google.com\n"
     ]
    },
    {
     "name": "stdout",
     "output_type": "stream",
     "text": [
      "The url is not valid\n"
     ]
    }
   ],
   "source": [
    "#Question number 34\n",
    "#check if a string is a valid URL\n",
    "\n",
    "from validators import *\n",
    "\n",
    "my_url = input(\"Enter the url:\")\n",
    "valid_url = url(my_url)\n",
    "if valid_url:\n",
    "    print(\"The url is valid\")\n",
    "else:\n",
    "    print(\"The url is not valid\")\n"
   ]
  },
  {
   "cell_type": "code",
   "execution_count": 4,
   "id": "e5f173dd-f431-4f92-9c24-bc152690f60c",
   "metadata": {},
   "outputs": [
    {
     "name": "stdin",
     "output_type": "stream",
     "text": [
      "Enter the url: https:\\\\google.com\n"
     ]
    },
    {
     "data": {
      "text/plain": [
       "'https'"
      ]
     },
     "execution_count": 4,
     "metadata": {},
     "output_type": "execute_result"
    }
   ],
   "source": [
    "#Question humber 35\n",
    "#Extract the protocol (http or https) from a URL string\n",
    "\n",
    "url = input(\"Enter the url:\")\n",
    "index = url.index(\":\")\n",
    "url[0:index]"
   ]
  },
  {
   "cell_type": "code",
   "execution_count": 14,
   "id": "947dd4df-7da6-4b3e-a2ba-0647aba20c94",
   "metadata": {},
   "outputs": [
    {
     "name": "stdin",
     "output_type": "stream",
     "text": [
      "Enter the string: saa\n"
     ]
    },
    {
     "name": "stdout",
     "output_type": "stream",
     "text": [
      "{'s': 1, 'a': 2}\n"
     ]
    }
   ],
   "source": [
    "#Question number 36\n",
    "#find the frequency of each character in the string\n",
    "\n",
    "frequency = {}\n",
    "s = input(\"Enter the string:\")\n",
    "for i in s:\n",
    "    if i in frequency:\n",
    "        frequency[i]+=1\n",
    "    else:\n",
    "        frequency[i] = 1\n",
    "        \n",
    "print(frequency)"
   ]
  },
  {
   "cell_type": "code",
   "execution_count": 14,
   "id": "242f6f6f-ad30-49ad-bde8-f2269cee91d8",
   "metadata": {},
   "outputs": [
    {
     "name": "stdin",
     "output_type": "stream",
     "text": [
      "Enter the string my name is !assidjisdjsidjsijsj##\n"
     ]
    },
    {
     "name": "stdout",
     "output_type": "stream",
     "text": [
      "my name is !assidjisdjsidjsijsj\n"
     ]
    }
   ],
   "source": [
    "#Question number 37\n",
    "#Remove all punctuation from the string\n",
    "\n",
    "s = input(\"Enter the string\")\n",
    "punctuation = '''!()-[]{};:'\"\\,<>./?@#$%^&*_~'''\n",
    "\n",
    "for i in s:\n",
    "    if i in punctuation:\n",
    "        new = s.replace(i, \"\")\n",
    "\n",
    "print(new)"
   ]
  },
  {
   "cell_type": "code",
   "execution_count": 16,
   "id": "e48c081e-4220-4eb3-99b1-ff73453deddd",
   "metadata": {},
   "outputs": [
    {
     "name": "stdin",
     "output_type": "stream",
     "text": [
      "Enter the string: saji123\n"
     ]
    },
    {
     "name": "stdout",
     "output_type": "stream",
     "text": [
      "The string saji123 does not contain only digits\n"
     ]
    }
   ],
   "source": [
    "#Question number 38\n",
    "#Check if a string contains only digits\n",
    "\n",
    "s = input(\"Enter the string:\")\n",
    "if s.isdigit():\n",
    "    print(f\"The string {s} only contains digits\")\n",
    "else:\n",
    "    print(f\"The string {s} does not contain only digits\") \n"
   ]
  },
  {
   "cell_type": "code",
   "execution_count": 18,
   "id": "90a0b6be-609d-49f6-855e-e133ad621bf9",
   "metadata": {},
   "outputs": [
    {
     "name": "stdin",
     "output_type": "stream",
     "text": [
      "Enter the string: 123abcd\n"
     ]
    },
    {
     "name": "stdout",
     "output_type": "stream",
     "text": [
      "The string 123abcd does not contain only alphabets\n"
     ]
    }
   ],
   "source": [
    "#Question number 39\n",
    "#Check if a string only contains alphabets\n",
    "\n",
    "s = input(\"Enter the string:\")\n",
    "if s.isalpha():\n",
    "    print(f\"The string {s} only contains alphabets\")\n",
    "else:\n",
    "    print(f\"The string {s} does not contain only alphabets\")\n",
    "    "
   ]
  },
  {
   "cell_type": "code",
   "execution_count": 20,
   "id": "f1b5f1dd-f909-4eb0-8282-f9d78eaa8177",
   "metadata": {},
   "outputs": [
    {
     "name": "stdin",
     "output_type": "stream",
     "text": [
      "Enter the string: saji the man \n"
     ]
    },
    {
     "name": "stdout",
     "output_type": "stream",
     "text": [
      "['s', 'a', 'j', 'i', ' ', 't', 'h', 'e', ' ', 'm', 'a', 'n', ' ']\n"
     ]
    }
   ],
   "source": [
    "#Question number 40\n",
    "#Convert a string to a list of characters\n",
    "l = []\n",
    "s = input(\"Enter the string:\")\n",
    "l.extend(s)\n",
    "print(l)\n"
   ]
  },
  {
   "cell_type": "code",
   "execution_count": 5,
   "id": "3237b639-63d8-414d-92fc-5da6dc09e24b",
   "metadata": {},
   "outputs": [
    {
     "name": "stdin",
     "output_type": "stream",
     "text": [
      "Enter the string1: as\n",
      "Enter the string2: ds\n"
     ]
    },
    {
     "name": "stdout",
     "output_type": "stream",
     "text": [
      "The strings are not anagrams\n"
     ]
    }
   ],
   "source": [
    "#Question number 41\n",
    "#Check if two string are anagrams\n",
    "\n",
    "s1 = input(\"Enter the string1:\")\n",
    "s2 = input(\"Enter the string2:\")\n",
    "if sorted(s1)==sorted(s2):\n",
    "    print(\"The strings are anagrams\")\n",
    "else:\n",
    "    print(\"The strings are not anagrams\")"
   ]
  },
  {
   "cell_type": "code",
   "execution_count": 10,
   "id": "d2495be2-6f14-4fb4-8c4e-7172f29f458e",
   "metadata": {},
   "outputs": [
    {
     "name": "stdin",
     "output_type": "stream",
     "text": [
      "Enter the string: abc\n",
      "Enter the shift: 2\n"
     ]
    },
    {
     "name": "stdout",
     "output_type": "stream",
     "text": [
      " cde\n"
     ]
    }
   ],
   "source": [
    "#Question number 42\n",
    "#Encode a string using a Caesar cipher\n",
    "\n",
    "alphabets = ['a','b','c','d','e','f','g','h','i','j','k','l','m','n','o','p','q','r','s','t','u','v','w','x','y','z','a','b','c','d','e','f','g','h','i','j','k','l','m','n','o','p','q','r','s','t','u','v','w','x','y','z']\n",
    "\n",
    "s = input(\"Enter the string:\")\n",
    "if s.isalpha():\n",
    "    shift = int(input(\"Enter the shift:\"))\n",
    "    encode = \" \"\n",
    "    for i in s:\n",
    "        if i in alphabets:\n",
    "            shifted_index = alphabets.index(i)+shift\n",
    "            encode+=alphabets[shifted_index]\n",
    "    print(encode)\n",
    "else:\n",
    "    print(\"Please enter a valid input!\")\n"
   ]
  },
  {
   "cell_type": "code",
   "execution_count": 11,
   "id": "f85b401f-d1a2-47c9-bffb-5e2b0bf08c83",
   "metadata": {},
   "outputs": [
    {
     "name": "stdin",
     "output_type": "stream",
     "text": [
      "Enter the string: cde\n",
      "Enter the shift: 2\n"
     ]
    },
    {
     "name": "stdout",
     "output_type": "stream",
     "text": [
      " abc\n"
     ]
    }
   ],
   "source": [
    "#Question 43\n",
    "#Decode a Caesar cipher encoded string\n",
    "\n",
    "alphabets = ['a','b','c','d','e','f','g','h','i','j','k','l','m','n','o','p','q','r','s','t','u','v','w','x','y','z','a','b','c','d','e','f','g','h','i','j','k','l','m','n','o','p','q','r','s','t','u','v','w','x','y','z']\n",
    "\n",
    "s = input(\"Enter the string:\")\n",
    "if s.isalpha():\n",
    "    shift = int(input(\"Enter the shift:\"))\n",
    "    decode = \" \"\n",
    "    for i in s:\n",
    "        if i in alphabets:\n",
    "            shifted_index = alphabets.index(i)-shift\n",
    "            decode+=alphabets[shifted_index]\n",
    "    print(decode)\n",
    "else:\n",
    "    print(\"Please enter a valid input!\")\n",
    "\n"
   ]
  },
  {
   "cell_type": "code",
   "execution_count": 12,
   "id": "4a171494-44c7-4854-ab41-317c651e14f6",
   "metadata": {},
   "outputs": [
    {
     "name": "stdin",
     "output_type": "stream",
     "text": [
      "Enter the string: eaat\n"
     ]
    },
    {
     "name": "stdout",
     "output_type": "stream",
     "text": [
      "The most frequently occuring word is 'a' and the frequency is 2 \n"
     ]
    }
   ],
   "source": [
    "#Question 44\n",
    "#Find the most frequent word in a string\n",
    "\n",
    "frequency = {}\n",
    "s = input(\"Enter the string:\")\n",
    "for i in s:\n",
    "    if i in frequency:\n",
    "        frequency[i]+=1\n",
    "    else:\n",
    "        frequency[i]=1\n",
    "max = 0\n",
    "for i in frequency:\n",
    "    if frequency[i]>max:\n",
    "        word = i \n",
    "        max = frequency[i]\n",
    "print(f\"The most frequently occuring word is '{word}' and the frequency is {max} \")"
   ]
  },
  {
   "cell_type": "code",
   "execution_count": 13,
   "id": "4fd08c88-05dd-4fc0-9c28-3390f2213926",
   "metadata": {},
   "outputs": [
    {
     "name": "stdin",
     "output_type": "stream",
     "text": [
      "Enter the string: dfdfd\n"
     ]
    },
    {
     "name": "stdout",
     "output_type": "stream",
     "text": [
      "['dfdfd']\n"
     ]
    }
   ],
   "source": [
    "#Question 45\n",
    "#Find all unique words in a string\n",
    "\n",
    "s = input(\"Enter the string:\").split(\" \")\n",
    "unique_words = []\n",
    "for i in s:\n",
    "    if i not in unique_words:\n",
    "        unique_words.append(i)\n",
    "print(unique_words)\n",
    "    "
   ]
  },
  {
   "cell_type": "code",
   "execution_count": 9,
   "id": "35952625-1fcf-4949-bc0a-a6bc1e47520d",
   "metadata": {},
   "outputs": [
    {
     "name": "stdin",
     "output_type": "stream",
     "text": [
      "Enter the word: ter-mi-nator\n"
     ]
    },
    {
     "name": "stdout",
     "output_type": "stream",
     "text": [
      "3\n"
     ]
    }
   ],
   "source": [
    "#Question 46\n",
    "#count the number of syllables in a string\n",
    "\n",
    "word = input(\"Enter the word:\")\n",
    "syllables = word.split(\"-\")\n",
    "print(len(syllables))\n",
    "\n"
   ]
  },
  {
   "cell_type": "code",
   "execution_count": 10,
   "id": "57cd6bfc-5bf4-42cd-8e46-8be2c1588ae0",
   "metadata": {},
   "outputs": [
    {
     "name": "stdin",
     "output_type": "stream",
     "text": [
      "Enter the string: ab123\n"
     ]
    },
    {
     "name": "stdout",
     "output_type": "stream",
     "text": [
      "The string has no special characters\n"
     ]
    }
   ],
   "source": [
    "#Question 47\n",
    "#Check if a string contains any special characters\n",
    "\n",
    "s = input(\"Enter the string:\")\n",
    "if s.isalnum():\n",
    "    print(\"The string has no special characters\")\n",
    "else:\n",
    "    print(\"The string has special characters\")\n"
   ]
  },
  {
   "cell_type": "code",
   "execution_count": 5,
   "id": "ce3a0c54-c809-4c90-9e68-bf8adb9a791f",
   "metadata": {},
   "outputs": [
    {
     "name": "stdin",
     "output_type": "stream",
     "text": [
      "Enter the string: sajeeth\n",
      "Enter the value of n: 4\n"
     ]
    },
    {
     "data": {
      "text/plain": [
       "'sajeth'"
      ]
     },
     "execution_count": 5,
     "metadata": {},
     "output_type": "execute_result"
    }
   ],
   "source": [
    "#Question 48\n",
    "#remove the nth word from the string\n",
    "\n",
    "s = input(\"Enter the string:\")\n",
    "n = int(input(\"Enter the value of n:\"))\n",
    "first_part = s[:n]\n",
    "last_part = s[n+1:]\n",
    "first_part + last_part"
   ]
  },
  {
   "cell_type": "code",
   "execution_count": 13,
   "id": "0ae69ecb-ff58-457c-8e96-7ea586bab12f",
   "metadata": {},
   "outputs": [
    {
     "name": "stdin",
     "output_type": "stream",
     "text": [
      "Enter the string: aardvark\n",
      "Enter the value of n: 7\n",
      "Enter the word: t\n"
     ]
    },
    {
     "name": "stdout",
     "output_type": "stream",
     "text": [
      "aardvart\n"
     ]
    }
   ],
   "source": [
    "#Question 49\n",
    "#insert a word at the nth position of the string\n",
    "\n",
    "s = input(\"Enter the string:\")\n",
    "n = int(input(\"Enter the value of n:\"))\n",
    "word = input(\"Enter the word:\")\n",
    "\n",
    "replaced_string = s.replace(s[n],word)                        \n",
    "print(replaced_string)\n",
    "\n",
    "\n"
   ]
  },
  {
   "cell_type": "code",
   "execution_count": 21,
   "id": "ad1ae963-e757-436b-843e-81a6d784cfea",
   "metadata": {},
   "outputs": [
    {
     "name": "stdout",
     "output_type": "stream",
     "text": [
      "<_csv.reader object at 0x7fc8d00d4cf0>\n"
     ]
    }
   ],
   "source": [
    "#Question 50\n",
    "#convert a csv strings into list of lists\n",
    "\n",
    "import csv\n",
    "l = []\n",
    "with open(\"Untitled.csv\",\"r\") as file:\n",
    "    csv_reader = csv.reader(file)\n",
    "    for i in csv_reader:\n",
    "        l.append(i)\n",
    "new_list = list(l)"
   ]
  },
  {
   "cell_type": "code",
   "execution_count": 22,
   "id": "344b06e1-112a-4fed-b412-aa345a081e60",
   "metadata": {},
   "outputs": [
    {
     "name": "stdout",
     "output_type": "stream",
     "text": [
      "[1, 2, 3, 4, 5, 6, 7, 8, 9, 10]\n"
     ]
    }
   ],
   "source": [
    "#LIST BASED PROBLEMS\n",
    "#Question 1\n",
    "# Create a list with integers from 1 to 10\n",
    "\n",
    "number_list = []\n",
    "for i in range(1,11):\n",
    "    number_list.append(i)\n",
    "print(number_list)\n"
   ]
  },
  {
   "cell_type": "code",
   "execution_count": 23,
   "id": "29e5e443-c8be-4f43-9c20-0dc2be343a8f",
   "metadata": {},
   "outputs": [
    {
     "name": "stdout",
     "output_type": "stream",
     "text": [
      "10\n"
     ]
    }
   ],
   "source": [
    "#Question 2\n",
    "# Find the length of a list without using the `len()` function\n",
    "\n",
    "sample_list = [1, 2, 3, 4, 5, 6, 7, 8, 9, 10]\n",
    "counter = 0\n",
    "for i in sample_list:\n",
    "    counter+=1\n",
    "print(counter)\n"
   ]
  },
  {
   "cell_type": "code",
   "execution_count": 32,
   "id": "2a916839-321c-4953-ba50-8a5a6039ccb3",
   "metadata": {},
   "outputs": [
    {
     "name": "stdin",
     "output_type": "stream",
     "text": [
      "Enter the element you want to add: 23\n"
     ]
    },
    {
     "name": "stdout",
     "output_type": "stream",
     "text": [
      "[1, 2, 3, 4, 5, 6, 7, 8, 9, 10, '23']\n"
     ]
    }
   ],
   "source": [
    "#Question 3\n",
    "# Append an element to the end of a list\n",
    "\n",
    "sample_list = [1, 2, 3, 4, 5, 6, 7, 8, 9, 10]\n",
    "element = input(\"Enter the element you want to add:\")    \n",
    "sample_list.append(element)\n",
    "print(sample_list)"
   ]
  },
  {
   "cell_type": "code",
   "execution_count": 33,
   "id": "a38de5cf-aca1-4971-8669-38152105e270",
   "metadata": {},
   "outputs": [
    {
     "name": "stdin",
     "output_type": "stream",
     "text": [
      "Enter the element you want to insert: 34\n",
      "Enter the index you want to enter: 20\n"
     ]
    },
    {
     "name": "stdout",
     "output_type": "stream",
     "text": [
      "INVALID INDEX PLEASE ENTER A VALID ONE\n"
     ]
    }
   ],
   "source": [
    "#Question 4\n",
    "# Insert an element at a specific index in a list\n",
    "\n",
    "sample_list = [1, 2, 3, 4, 5, 6, 7, 8, 9, 10]\n",
    "element = input(\"Enter the element you want to insert:\")\n",
    "\n",
    "index = int(input(\"Enter the index you want to enter:\"))\n",
    "if index>len(sample_list)-1:\n",
    "    print(\"INVALID INDEX PLEASE ENTER A VALID ONE\")\n",
    "else: \n",
    "    sample_list.insert(index,element)\n",
    "    print(sample_list)"
   ]
  },
  {
   "cell_type": "code",
   "execution_count": 41,
   "id": "d8a5f2ff-9cc5-47e8-8904-c9d220ffd12f",
   "metadata": {},
   "outputs": [
    {
     "name": "stdin",
     "output_type": "stream",
     "text": [
      "Enter the value of the element you want to remove\n",
      "[1, 2, 3, 4, 5, 6, 7, 8, 9, 10]: 10\n"
     ]
    },
    {
     "name": "stdout",
     "output_type": "stream",
     "text": [
      "[1, 2, 3, 4, 5, 6, 7, 8, 9]\n"
     ]
    }
   ],
   "source": [
    "#Question 5\n",
    "# Remove an element from a list by its value\n",
    "\n",
    "sample_list = [1, 2, 3, 4, 5, 6, 7, 8, 9, 10]\n",
    "element = int(input(f\"Enter the value of the element you want to remove\\n{sample_list}:\"))\n",
    "if element in sample_list:\n",
    "    sample_list.remove(element)\n",
    "    print(sample_list)\n",
    "else:\n",
    "    print(\"The element you want to remove is not present\")"
   ]
  },
  {
   "cell_type": "code",
   "execution_count": 45,
   "id": "3c606ecd-983b-43df-852d-4a7588bd8f45",
   "metadata": {},
   "outputs": [
    {
     "name": "stdin",
     "output_type": "stream",
     "text": [
      "Enter the index of the element you want to remove: -1\n"
     ]
    },
    {
     "name": "stdout",
     "output_type": "stream",
     "text": [
      "[1, 2, 3, 4, 5, 6, 7, 8, 9]\n"
     ]
    }
   ],
   "source": [
    "#Question 6\n",
    "# Remove an element from a list by its index\n",
    "\n",
    "sample_list = [1, 2, 3, 4, 5, 6, 7, 8, 9, 10]\n",
    "index = int(input(\"Enter the index of the element you want to remove:\"))\n",
    "if index<= len(sample_list)-1: \n",
    "    sample_list.pop(index)\n",
    "    print(sample_list)\n",
    "else:\n",
    "    print(\"Enter a valid index\")\n"
   ]
  },
  {
   "cell_type": "code",
   "execution_count": 47,
   "id": "2675807d-13a5-4e04-95a2-118c3339fb81",
   "metadata": {},
   "outputs": [
    {
     "name": "stdin",
     "output_type": "stream",
     "text": [
      "Enter the element: 11\n"
     ]
    },
    {
     "name": "stdout",
     "output_type": "stream",
     "text": [
      "The element does not exist in the list\n"
     ]
    }
   ],
   "source": [
    "#Question 7\n",
    "# Check if an element exists in a list\n",
    "\n",
    "sample_list = [1, 2, 3, 4, 5, 6, 7, 8, 9, 10]\n",
    "element = int(input(\"Enter the element:\"))\n",
    "if element in sample_list:\n",
    "    print(\"The element exists in the list\")\n",
    "else:\n",
    "    print(\"The element does not exist in the list\")\n"
   ]
  },
  {
   "cell_type": "code",
   "execution_count": 73,
   "id": "3a5cb513-8083-4fdf-a7ed-fef512ecebd6",
   "metadata": {},
   "outputs": [
    {
     "name": "stdin",
     "output_type": "stream",
     "text": [
      "Enter the element: z\n"
     ]
    },
    {
     "name": "stdout",
     "output_type": "stream",
     "text": [
      "The first occurence of the element z is in the 25 index.\n"
     ]
    }
   ],
   "source": [
    "#Question 8\n",
    "# Find the index of the first occurrence of an element in a list\n",
    "\n",
    "sample_list = ['a','b','c','d','e','f','g','h','i','j','k','l','m','n','o','p','q','r','s','t','u','v','w','x','y','z']\n",
    "element = input(\"Enter the element:\")\n",
    "if element in sample_list: \n",
    "    for i in sample_list:\n",
    "        if i==element:\n",
    "            print(f\"The first occurence of the element {i} is in the {sample_list.index(i)} index.\")\n",
    "            break\n",
    "else:\n",
    "    print(\"Your input is Invalid!\")\n",
    "        "
   ]
  },
  {
   "cell_type": "code",
   "execution_count": 78,
   "id": "5a342378-7e50-4913-9663-d59824bed347",
   "metadata": {},
   "outputs": [
    {
     "name": "stdin",
     "output_type": "stream",
     "text": [
      "Enter the element: 12020290909090280808080808\n"
     ]
    },
    {
     "name": "stdout",
     "output_type": "stream",
     "text": [
      "Your input is Invalid!\n"
     ]
    }
   ],
   "source": [
    "#Question 9\n",
    "# Count the occurrences of an element in a list\n",
    "\n",
    "sample_list = [1,1,2,2,3,5,5,6,9,89,23,23,1,23]\n",
    "element = int(input(\"Enter the element:\"))\n",
    "if element in sample_list:\n",
    "    count = sample_list.count(element)\n",
    "    print(count)\n",
    "else:\n",
    "    print(\"Your input is Invalid!\")"
   ]
  },
  {
   "cell_type": "code",
   "execution_count": 79,
   "id": "cf33bcd5-6d27-4bc4-a7b5-4f8043335ccf",
   "metadata": {},
   "outputs": [
    {
     "data": {
      "text/plain": [
       "['sajeeth', 'is', 'name', 'my']"
      ]
     },
     "execution_count": 79,
     "metadata": {},
     "output_type": "execute_result"
    }
   ],
   "source": [
    "#Question 10\n",
    "# Reverse the order of elements in a list\n",
    "\n",
    "sample_list = ['my','name','is', 'sajeeth']\n",
    "sample_list[::-1]"
   ]
  },
  {
   "cell_type": "code",
   "execution_count": 97,
   "id": "ede96313-74de-4347-b156-87624e7718f1",
   "metadata": {},
   "outputs": [
    {
     "name": "stdout",
     "output_type": "stream",
     "text": [
      "[1, 3, 4, 5, 5, 9, 67, 91, 102]\n"
     ]
    }
   ],
   "source": [
    "#Question 11\n",
    "# Sort a list in ascending order\n",
    "\n",
    "l = [3,5,9,1,91,4,102,5,67]\n",
    "l.sort()\n",
    "print(l)"
   ]
  },
  {
   "cell_type": "code",
   "execution_count": 102,
   "id": "22277e4a-3c8c-455d-9745-c3a2882899e1",
   "metadata": {},
   "outputs": [
    {
     "name": "stdout",
     "output_type": "stream",
     "text": [
      "[102, 91, 67, 9, 5, 5, 4, 3, 1]\n"
     ]
    }
   ],
   "source": [
    "#Question 12\n",
    "# Sort a list in descending order\n",
    "\n",
    "l = [3,5,9,1,91,4,102,5,67]\n",
    "l.sort(reverse=True)\n",
    "print(l)\n",
    "\n"
   ]
  },
  {
   "cell_type": "code",
   "execution_count": 108,
   "id": "64305d3c-732f-4ccf-85a6-85cf897b619d",
   "metadata": {},
   "outputs": [
    {
     "name": "stdout",
     "output_type": "stream",
     "text": [
      "2\n",
      "4\n",
      "6\n",
      "8\n",
      "10\n",
      "12\n",
      "14\n",
      "16\n",
      "18\n",
      "20\n"
     ]
    }
   ],
   "source": [
    "#Question 13\n",
    "# Create a list of even numbers from 1 to 20\n",
    "\n",
    "for i in range(1,21):\n",
    "    if i%2==0:\n",
    "        print(i)\n"
   ]
  },
  {
   "cell_type": "code",
   "execution_count": 109,
   "id": "98a29cba-5627-4dd6-80d1-6287919f3618",
   "metadata": {},
   "outputs": [
    {
     "name": "stdout",
     "output_type": "stream",
     "text": [
      "1\n",
      "3\n",
      "5\n",
      "7\n",
      "9\n",
      "11\n",
      "13\n",
      "15\n",
      "17\n",
      "19\n"
     ]
    }
   ],
   "source": [
    "#Question 14\n",
    "# Create a list of odd numbers from 1 to 20\n",
    "\n",
    "for i in range(1,21,2):\n",
    "    print(i)"
   ]
  },
  {
   "cell_type": "code",
   "execution_count": 110,
   "id": "c44d2cf8-b5ea-4fb8-b51f-42e8605d480e",
   "metadata": {},
   "outputs": [
    {
     "name": "stdout",
     "output_type": "stream",
     "text": [
      "287\n"
     ]
    }
   ],
   "source": [
    "#Question 15\n",
    "# Find the sum of all elements in a list\n",
    "\n",
    "l = [3,5,9,1,91,4,102,5,67]\n",
    "\n",
    "total_sum = 0\n",
    "\n",
    "for i in l:\n",
    "    total_sum+=i\n",
    "print(total_sum)\n"
   ]
  },
  {
   "cell_type": "code",
   "execution_count": 144,
   "id": "6bc84415-9f92-4b57-8e0d-89b2334a3134",
   "metadata": {},
   "outputs": [
    {
     "name": "stdout",
     "output_type": "stream",
     "text": [
      "The maximum value is 197\n"
     ]
    }
   ],
   "source": [
    "#Question 16\n",
    "# Find the maximum value in a list.\n",
    "\n",
    "l = [3,5,9,1,91,4,5,67,197]\n",
    "\n",
    "max = l[0]\n",
    "\n",
    "for i in range(0,len(l)):\n",
    "    if l[i]>max:\n",
    "        max=l[i]\n",
    "print(f\"The maximum value is {max}\")\n",
    "    "
   ]
  },
  {
   "cell_type": "code",
   "execution_count": 145,
   "id": "e1afa1b4-7ac8-4be5-9f1e-dfac97f39fd9",
   "metadata": {},
   "outputs": [
    {
     "name": "stdout",
     "output_type": "stream",
     "text": [
      "The minimum value is 4\n"
     ]
    }
   ],
   "source": [
    "#Question 17\n",
    "# Find the minimum value in a list\n",
    "\n",
    "l = [5,9,91,4,102,5,67,197]\n",
    "\n",
    "min = l[0]\n",
    "\n",
    "for i in range(0,len(l)-1):\n",
    "    if l[i]<min:\n",
    "        min=l[i]\n",
    "print(f\"The minimum value is {min}\")"
   ]
  },
  {
   "cell_type": "code",
   "execution_count": 146,
   "id": "c974fac0-2671-4989-a2c8-9b5a883fe13a",
   "metadata": {},
   "outputs": [
    {
     "name": "stdout",
     "output_type": "stream",
     "text": [
      "1\n",
      "4\n",
      "9\n",
      "16\n",
      "25\n",
      "36\n",
      "49\n",
      "64\n",
      "81\n",
      "100\n"
     ]
    }
   ],
   "source": [
    "#Question 18\n",
    "# create squares of numbers from 1 to 10\n",
    "\n",
    "for i in range(1,11):\n",
    "    print(i*i)"
   ]
  },
  {
   "cell_type": "code",
   "execution_count": 168,
   "id": "53a565a3-afe7-4750-a452-111f8a676473",
   "metadata": {},
   "outputs": [
    {
     "name": "stdin",
     "output_type": "stream",
     "text": [
      "How many random numbers do you want: 3\n"
     ]
    },
    {
     "name": "stdout",
     "output_type": "stream",
     "text": [
      "The list of random numbers are [71, 30, 8]\n"
     ]
    }
   ],
   "source": [
    "#Question 19\n",
    "# Create a list of random numbers\n",
    "\n",
    "import random\n",
    "\n",
    "random_list = []\n",
    "\n",
    "n = int(input(\"How many random numbers do you want:\"))\n",
    "\n",
    "for i in range(0,n):\n",
    "    random_generator = random.randint(1,100)\n",
    "    random_list.append(random_generator)\n",
    "print(f\"The list of random numbers are {random_list}\")\n"
   ]
  },
  {
   "cell_type": "code",
   "execution_count": 3,
   "id": "4a2c4d49-c4d4-4082-a855-c3a78abf74d4",
   "metadata": {},
   "outputs": [
    {
     "name": "stdout",
     "output_type": "stream",
     "text": [
      "[1, 3, 4, 5, 67, 197, 9, 91]\n"
     ]
    }
   ],
   "source": [
    "#Question 20\n",
    "# remove duplicates from a list\n",
    "l = [3,5,5,3,3,9,1,91,4,5,67,197]\n",
    "s = set(l)\n",
    "\n",
    "print(list(s))"
   ]
  },
  {
   "cell_type": "code",
   "execution_count": 7,
   "id": "cce2e21c-7a02-4bc3-aebc-7b30de1635d4",
   "metadata": {},
   "outputs": [
    {
     "name": "stdout",
     "output_type": "stream",
     "text": [
      "The common elements are [1, 3, 5, 67]\n"
     ]
    }
   ],
   "source": [
    "#Question 21\n",
    "# Find the common elements between two lists.\n",
    "\n",
    "l1 = [3,5,5,3,3,9,1,91,4,5,67,197]\n",
    "l2 = [3,5,7,11,23,1,67]\n",
    "common = []\n",
    "\n",
    "for i in set(l1):\n",
    "    if i in set(l2):\n",
    "        common.append(i)\n",
    "print(f\"The common elements are {common}\")"
   ]
  },
  {
   "cell_type": "code",
   "execution_count": 9,
   "id": "2e960d9d-1ad0-4e9f-8506-2c4ba0420728",
   "metadata": {},
   "outputs": [
    {
     "name": "stdout",
     "output_type": "stream",
     "text": [
      "The different elements are [4, 197, 9, 91]\n"
     ]
    }
   ],
   "source": [
    "#Question 22\n",
    "#Find the difference between two lists.\n",
    "\n",
    "l1 = [3,5,5,3,3,9,1,91,4,5,67,197]\n",
    "l2 = [3,5,7,11,23,1,67]\n",
    "difference = []\n",
    "\n",
    "for i in set(l1):\n",
    "    if i not in set(l2):\n",
    "        difference.append(i)\n",
    "print(f\"The different elements are {difference}\")\n"
   ]
  },
  {
   "cell_type": "code",
   "execution_count": 18,
   "id": "c05fc01e-1df9-484f-a4ea-3fe7132d61a3",
   "metadata": {},
   "outputs": [
    {
     "name": "stdout",
     "output_type": "stream",
     "text": [
      "[3, 5, 5, 3, 3, 9, 1, 91, 4, 5, 67, 197, 1, 2, 3, 4]\n"
     ]
    }
   ],
   "source": [
    "#Question 23\n",
    "# Merge two lists\n",
    "\n",
    "l1 = [3,5,5,3,3,9,1,91,4,5,67,197]\n",
    "l2 = [1,2,3,4]\n",
    "\n",
    "merged = l1 + l2\n",
    "print(merged)"
   ]
  },
  {
   "cell_type": "code",
   "execution_count": 20,
   "id": "a35e35b4-01cd-41ae-96d0-d9883696f699",
   "metadata": {},
   "outputs": [
    {
     "name": "stdout",
     "output_type": "stream",
     "text": [
      "The original list is [1, 2, 3, 4, 5, 6, 7, 8, 9, 10]\n",
      "The multiplied list is [2, 4, 6, 8, 10, 12, 14, 16, 18, 20]\n"
     ]
    }
   ],
   "source": [
    "#Question 24\n",
    "# Multiply all elements in a list by 2\n",
    "\n",
    "sample_list = [1, 2, 3, 4, 5, 6, 7, 8, 9, 10]\n",
    "new_list = []\n",
    "\n",
    "for i in sample_list:\n",
    "    new_list.append(i*2)\n",
    "    \n",
    "print(f\"The original list is {sample_list}\\nThe multiplied list is {new_list}\")"
   ]
  },
  {
   "cell_type": "code",
   "execution_count": 26,
   "id": "f6bd0464-63c0-41ad-9d19-ed935ff4423d",
   "metadata": {},
   "outputs": [
    {
     "name": "stdout",
     "output_type": "stream",
     "text": [
      "The original list is [1, 2, 3, 4, 5, 6, 7, 8, 9, 10]\n",
      "The even num list is[2, 4, 6, 8, 10]\n"
     ]
    }
   ],
   "source": [
    "#Question 25\n",
    "# Filter out all even numbers from a list\n",
    "\n",
    "sample_list = [1, 2, 3, 4, 5, 6, 7, 8, 9, 10]\n",
    "filtered_list = []\n",
    "\n",
    "for i in sample_list:\n",
    "    if i%2==0:\n",
    "        filtered_list.append(i)\n",
    "print(F\"The original list is {sample_list}\\nThe even num list is {filtered_list}\")\n",
    "        \n"
   ]
  },
  {
   "cell_type": "code",
   "execution_count": 31,
   "id": "45a254fa-8a04-4ed5-ba8f-507b1e7b7fca",
   "metadata": {},
   "outputs": [
    {
     "name": "stdout",
     "output_type": "stream",
     "text": [
      "The list of integers are [1, 2, 3, 4, 5, 6, 7, 8, 9, 10]\n",
      "<class 'int'>\n"
     ]
    }
   ],
   "source": [
    "#Question 26\n",
    "# Convert a list of strings to a list of integers\n",
    "\n",
    "sample_list = ['1', '2', '3', '4', '5', '6','7', '8', '9', '10']\n",
    "\n",
    "int_list = []\n",
    "\n",
    "for i in sample_list:\n",
    "    int_list.append(int(i))\n",
    "    \n",
    "print(f\"The list of integers are {int_list}\")\n",
    "print(type(int_list[0]))\n",
    "\n"
   ]
  },
  {
   "cell_type": "code",
   "execution_count": 32,
   "id": "3823721e-509b-4f51-bd1c-8ce5d20cdd4f",
   "metadata": {},
   "outputs": [
    {
     "name": "stdout",
     "output_type": "stream",
     "text": [
      "The list of strings are ['1', '2', '3', '4', '5', '6', '7', '8', '9', '10']\n",
      "<class 'str'>\n"
     ]
    }
   ],
   "source": [
    "#Question 27\n",
    "# Convert a list of integers to a list of strings\n",
    "\n",
    "sample_list = [1, 2, 3, 4, 5, 6, 7, 8, 9, 10]\n",
    "\n",
    "str_list = []\n",
    "\n",
    "for i in sample_list:\n",
    "    str_list.append(str(i))\n",
    "    \n",
    "print(f\"The list of strings are {str_list}\")\n",
    "print(type(str_list[0]))\n",
    "\n"
   ]
  },
  {
   "cell_type": "code",
   "execution_count": 16,
   "id": "17f81112-da7c-4819-bfbc-7a9b4b9801cf",
   "metadata": {},
   "outputs": [
    {
     "name": "stdout",
     "output_type": "stream",
     "text": [
      "The flattened list is [1, 2, 3, 4, 5, 6, 7]\n"
     ]
    }
   ],
   "source": [
    "#Question 28\n",
    "# flatten a nested list\n",
    "\n",
    "sample_list = [[1], [2, 3], [4, 5, 6, 7]]\n",
    "flat_list = []\n",
    "\n",
    "for nested_list in sample_list:\n",
    "    for num in nested_list:\n",
    "        flat_list.append(num)\n",
    "print(f\"The flattened list is {flat_list}\")\n",
    "    "
   ]
  },
  {
   "cell_type": "code",
   "execution_count": 6,
   "id": "30d84734-d797-4a2f-b85d-4c7da5b3c556",
   "metadata": {},
   "outputs": [
    {
     "name": "stdin",
     "output_type": "stream",
     "text": [
      "Enter the value of n: 5\n"
     ]
    },
    {
     "name": "stdout",
     "output_type": "stream",
     "text": [
      "[1, 1, 2, 3, 5]\n"
     ]
    }
   ],
   "source": [
    "#Question 29\n",
    "# Create a list of the first 10 Fibonacci numbers\n",
    "\n",
    "t = []\n",
    "n = int(input(\"Enter the value of n:\"))\n",
    "n1,n2 = 0,1\n",
    "total = 0\n",
    "if n<=0:\n",
    "    print(\"please enter a number greater than 0\")\n",
    "else:\n",
    "    for i in range(0,n):\n",
    "        n1=n2\n",
    "        n2=total\n",
    "        total = n1+n2\n",
    "        t.append(total)\n",
    "print(t)"
   ]
  },
  {
   "cell_type": "code",
   "execution_count": 14,
   "id": "eb7819d8-a0d3-46fe-9e81-59b733bf4cc6",
   "metadata": {},
   "outputs": [
    {
     "name": "stdout",
     "output_type": "stream",
     "text": [
      "The list is not sorted\n",
      "[1, 4, 5, 6, 7, 8, 9, 10, 20, 30]\n"
     ]
    }
   ],
   "source": [
    "#Question 30\n",
    "# check if a list is sorted\n",
    "\n",
    "sample_list = [1, 20, 30, 4, 5, 6, 7, 8, 9, 10]\n",
    "flag = 0\n",
    "sample_list1 = sample_list[:]\n",
    "sample_list1.sort()\n",
    "if sample_list == sample_list1:\n",
    "    \n",
    "    flag = 1\n",
    "    \n",
    "if flag == 1:\n",
    "    print(f\"The list is sorted\\n{sample_list1}\")\n",
    "else:\n",
    "    print(f\"The list is not sorted\\n{sample_list1}\")"
   ]
  },
  {
   "cell_type": "code",
   "execution_count": 7,
   "id": "b40fd249-d488-4514-ba35-564c307b9207",
   "metadata": {},
   "outputs": [
    {
     "name": "stdin",
     "output_type": "stream",
     "text": [
      "Enter the value of n: 3\n"
     ]
    },
    {
     "name": "stdout",
     "output_type": "stream",
     "text": [
      "[4, 5, 6, 1, 2, 3]\n"
     ]
    }
   ],
   "source": [
    "#Question 31\n",
    "# Rotate a list to the left by `n` positions.\n",
    "\n",
    "l = [4, 5, 6, 1, 2, 3]\n",
    "\n",
    "n = int(input(\"Enter the value of n:\"))\n",
    "\n",
    "l =  l[0:len(l)-n] + l[len(l)-n:len(l)]\n",
    "print(l)"
   ]
  },
  {
   "cell_type": "code",
   "execution_count": 6,
   "id": "443bc549-2ee0-4c47-9a9f-f99674a16ac7",
   "metadata": {},
   "outputs": [
    {
     "name": "stdin",
     "output_type": "stream",
     "text": [
      "Enter the value of n: 3\n"
     ]
    },
    {
     "name": "stdout",
     "output_type": "stream",
     "text": [
      "[4, 5, 6, 1, 2, 3]\n"
     ]
    }
   ],
   "source": [
    "#Question 32\n",
    "# Rotate a list to the right by `n` positions.\n",
    "\n",
    "l = [1, 2, 3, 4, 5, 6]\n",
    "\n",
    "n = int(input(\"Enter the value of n:\"))\n",
    "\n",
    "l = l[len(l)-n:len(l)] + l[0:len(l)-n]\n",
    "print(l)"
   ]
  },
  {
   "cell_type": "code",
   "execution_count": 19,
   "id": "02cbf9d7-8b63-444c-9fca-948eddc02c0a",
   "metadata": {},
   "outputs": [
    {
     "name": "stdout",
     "output_type": "stream",
     "text": [
      "[2, 3, 5, 7, 11, 13, 17, 19, 23, 29, 31, 37, 41, 43, 47]\n"
     ]
    }
   ],
   "source": [
    "#Question 33\n",
    "# Create a list of prime numbers up to 50.\n",
    "prime_list = []\n",
    "for num in range(2,50):\n",
    "    prime = True\n",
    "    for i in range(2,num):\n",
    "        if (num%i==0):\n",
    "            prime = False\n",
    "    if prime:\n",
    "        prime_list.append(num)\n",
    "print(prime_list)"
   ]
  },
  {
   "cell_type": "code",
   "execution_count": 8,
   "id": "53979b28-9472-46a0-a1d0-c04b574325cd",
   "metadata": {},
   "outputs": [
    {
     "name": "stdin",
     "output_type": "stream",
     "text": [
      "Enter the value of n: 3\n"
     ]
    },
    {
     "name": "stdout",
     "output_type": "stream",
     "text": [
      "[1, 2, 3]\n",
      "[4, 5, 6]\n",
      "[7, 8, 9]\n"
     ]
    }
   ],
   "source": [
    "#Question 34\n",
    "# Split a list into chunks of size `n`\n",
    "\n",
    "l = [1, 2, 3, 4, 5, 6, 7, 8, 9]\n",
    "start = 0\n",
    "end = len(l)\n",
    "n = int(input(\"Enter the value of n:\"))\n",
    "for i in range(start,end,n):\n",
    "    x=i\n",
    "    print(l[x:x+n])"
   ]
  },
  {
   "cell_type": "code",
   "execution_count": 13,
   "id": "2a3b5099-efbc-4140-9d60-e9d71059c6ff",
   "metadata": {},
   "outputs": [
    {
     "name": "stdout",
     "output_type": "stream",
     "text": [
      "The second largest element in the list is 8\n"
     ]
    }
   ],
   "source": [
    "#Question 35\n",
    "# Find the second largest number in a list\n",
    "\n",
    "l = [1, 2, 3, 4, 5, 6, 7, 8, 9]\n",
    "\n",
    "largest = l[0]\n",
    "for i in range(0,len(l)):\n",
    "    if l[i]>l[0]:\n",
    "        largest = l[i]\n",
    "l.remove(largest)\n",
    "print(f\"The second largest element in the list is {max(l)}\")\n",
    "\n"
   ]
  },
  {
   "cell_type": "code",
   "execution_count": 28,
   "id": "2239eb43-53aa-401c-9b44-21010f70b917",
   "metadata": {},
   "outputs": [
    {
     "name": "stdout",
     "output_type": "stream",
     "text": [
      "The squared list is [1, 16, 9, 16, 25, 36, 49, 64, 81]\n"
     ]
    }
   ],
   "source": [
    "#Question 36\n",
    "# Replace every element in a list with its square\n",
    "\n",
    "l = [1, 4, 3, 4, 5, 6, 7, 8, 9]\n",
    "for i in range(0,len(l)):\n",
    "    l[i] = l[i]*l[i]\n",
    "print(f\"The squared list is {l}\")\n",
    "    "
   ]
  },
  {
   "cell_type": "code",
   "execution_count": 31,
   "id": "3e09953d-d72f-484f-bee6-045fe89a06ca",
   "metadata": {},
   "outputs": [
    {
     "name": "stdout",
     "output_type": "stream",
     "text": [
      "The dictionary is {'a': 0, 'b': 1, 'c': 2, 'd': 3}\n"
     ]
    }
   ],
   "source": [
    "#Question 37\n",
    "# Convert a list to a dictionary where list elements become keys and their indices become values.\n",
    "\n",
    "l = ['a','b','c','d']\n",
    "new_dict = {}\n",
    "\n",
    "for i in range(0,len(l)):\n",
    "    new_dict[l[i]] = l.index(l[i])\n",
    "    \n",
    "print(f\"The dictionary is {new_dict}\")\n",
    "    "
   ]
  },
  {
   "cell_type": "code",
   "execution_count": 42,
   "id": "438b5f52-62f0-401d-bcbf-7f0d7dbb8a87",
   "metadata": {},
   "outputs": [
    {
     "name": "stdout",
     "output_type": "stream",
     "text": [
      "[6, 1, 9, 4, 7, 8, 5, 3, 4]\n"
     ]
    }
   ],
   "source": [
    "#Question 38\n",
    "# Shuffle the elements of a list randomly\n",
    "\n",
    "import random\n",
    "\n",
    "l = [1, 4, 3, 4, 5, 6, 7, 8, 9]\n",
    "random.shuffle(l)\n",
    "print(l)"
   ]
  },
  {
   "cell_type": "code",
   "execution_count": 11,
   "id": "5aaa7e51-a62f-4300-bf7f-d6a1db2fb483",
   "metadata": {},
   "outputs": [
    {
     "name": "stdout",
     "output_type": "stream",
     "text": [
      "The factorial of the numbers are [1, 2, 6, 24, 120, 720, 5040, 40320, 362880, 3628800]\n"
     ]
    }
   ],
   "source": [
    "#Question 39\n",
    "# Create a list of the first 10 factorial numbers\n",
    "\n",
    "l = [1, 2, 3, 4, 5, 6, 7, 8, 9, 10]\n",
    "fact_list = []\n",
    "\n",
    "for num in l:\n",
    "        fact = 1\n",
    "        for i in range(1,num+1):\n",
    "            fact = fact*i\n",
    "        fact_list.append(fact)\n",
    "print(f\"The factorial of the numbers are {fact_list}\")"
   ]
  },
  {
   "cell_type": "code",
   "execution_count": 20,
   "id": "a149c771-0f51-4722-829f-de83d24368ea",
   "metadata": {},
   "outputs": [
    {
     "name": "stdout",
     "output_type": "stream",
     "text": [
      "There is nothing in common between the lists\n"
     ]
    }
   ],
   "source": [
    "#Question 40\n",
    "# Check if two lists have at least one element in common\n",
    "l = ['a','b','c','d']\n",
    "\n",
    "l2 = ['e','f','g','d']\n",
    "\n",
    "flag = 0\n",
    "\n",
    "for element in l:\n",
    "    if element  in l2:\n",
    "        flag = 1\n",
    "if flag==1:\n",
    "    print(f\"There is atleast one element in common that is '{element}'\")\n",
    "else:\n",
    "    print(\"There is nothing in common between the lists\")\n",
    "        "
   ]
  },
  {
   "cell_type": "code",
   "execution_count": 24,
   "id": "c74132c5-9c5a-4102-acee-00f842142f94",
   "metadata": {},
   "outputs": [
    {
     "name": "stdout",
     "output_type": "stream",
     "text": [
      "The list of elements after clearing: []\n"
     ]
    }
   ],
   "source": [
    "#Question 41\n",
    "# Remove all elements from a list.\n",
    "\n",
    "l = ['a','b','c','d']\n",
    "\n",
    "l.clear()\n",
    "print(f\"The list of elements after clearing: {l}\")"
   ]
  },
  {
   "cell_type": "code",
   "execution_count": 28,
   "id": "26bdfe7d-2fb4-41c4-b8cb-ba351bee6176",
   "metadata": {},
   "outputs": [
    {
     "name": "stdout",
     "output_type": "stream",
     "text": [
      "The list after replacing the negative numbers with 0 [1, 2, 0, 4, 5, 6, 0, 0, 9, 10]\n"
     ]
    }
   ],
   "source": [
    "#Question 42\n",
    "# Replace negative numbers in a list with 0\n",
    "\n",
    "l = [1, 2, -3, 4, 5, 6, -7, -8, 9, 10]\n",
    "for i in range(0,len(l)):\n",
    "    if l[i]<0:\n",
    "        l[i]=0\n",
    "print(f\"The list after replacing the negative numbers with 0 {l}\")\n"
   ]
  },
  {
   "cell_type": "code",
   "execution_count": 30,
   "id": "d842c8d3-18fb-4ecf-94a1-3107371d4f76",
   "metadata": {},
   "outputs": [
    {
     "name": "stdin",
     "output_type": "stream",
     "text": [
      "Enter the string: hello mary\n"
     ]
    },
    {
     "name": "stdout",
     "output_type": "stream",
     "text": [
      "The list of string is ['hello', 'mary']\n"
     ]
    }
   ],
   "source": [
    "#Question 43\n",
    "# Convert a string into a list of words\n",
    "s = input(\"Enter the string:\")\n",
    "l = s.split()\n",
    "print(f\"The list of string is {l}\")"
   ]
  },
  {
   "cell_type": "code",
   "execution_count": 31,
   "id": "a0e1abc7-84c1-469d-bbe6-209b703536f9",
   "metadata": {},
   "outputs": [
    {
     "name": "stdout",
     "output_type": "stream",
     "text": [
      "hellomarypeace\n"
     ]
    }
   ],
   "source": [
    "#Question 44\n",
    "# Convert a list of words into a string\n",
    "\n",
    "l = ['hello', 'mary',\"peace\"]\n",
    "\n",
    "element = \"\"\n",
    "\n",
    "for i in l:\n",
    "    element+=i\n",
    "print(element)"
   ]
  },
  {
   "cell_type": "code",
   "execution_count": 2,
   "id": "8715b18c-b0af-4761-a6b5-f479c7e7f950",
   "metadata": {},
   "outputs": [
    {
     "name": "stdin",
     "output_type": "stream",
     "text": [
      "Enter the value of n: 4\n"
     ]
    },
    {
     "name": "stdout",
     "output_type": "stream",
     "text": [
      "The powers list is [2, 4, 8, 16]\n"
     ]
    }
   ],
   "source": [
    "#Question 45\n",
    "# Create a list of the first `n` powers of 2\n",
    "\n",
    "powers_list = []\n",
    "n = int(input(\"Enter the value of n:\"))\n",
    "for i in range(1,n+1):\n",
    "    powers_list.append(2**i)\n",
    "print(f\"The powers list is {powers_list}\")\n",
    "    "
   ]
  },
  {
   "cell_type": "code",
   "execution_count": 7,
   "id": "ed94b7af-db9b-47c3-ac31-1578bfe389b4",
   "metadata": {},
   "outputs": [
    {
     "name": "stdout",
     "output_type": "stream",
     "text": [
      "The longest string is 'sajeeth'\n"
     ]
    }
   ],
   "source": [
    "#Question 46\n",
    "# Find the longest string in a list of strings\n",
    "\n",
    "l = ['hello','my','name','is','sajeeth']\n",
    "longest = l[0]\n",
    "for i in range(0,len(l)):\n",
    "    if len(l[i])>len(longest):\n",
    "        longest = l[i]\n",
    "print(f\"The longest string is '{longest}'\")\n",
    "\n",
    "    \n"
   ]
  },
  {
   "cell_type": "code",
   "execution_count": 8,
   "id": "f6c42ce4-0e09-45c8-91de-77cf3fd4c689",
   "metadata": {},
   "outputs": [
    {
     "name": "stdout",
     "output_type": "stream",
     "text": [
      "The shortest string is 'my'\n"
     ]
    }
   ],
   "source": [
    "#Question 47\n",
    "# Find the shortest string in a list of strings\n",
    "\n",
    "l = ['hello','my','name','is''sajeeth']\n",
    "shortest = l[0]\n",
    "for i in range(0,len(l)):\n",
    "    if len(l[i])<len(shortest):\n",
    "        shortest = l[i]\n",
    "print(f\"The shortest string is '{shortest}'\")"
   ]
  },
  {
   "cell_type": "code",
   "execution_count": 10,
   "id": "f49577d8-a098-445e-86b2-a50fbb99d962",
   "metadata": {},
   "outputs": [
    {
     "name": "stdin",
     "output_type": "stream",
     "text": [
      "Enter the value of n: 10\n"
     ]
    },
    {
     "name": "stdout",
     "output_type": "stream",
     "text": [
      "[1, 3, 6, 10, 15, 21, 28, 36, 45]\n"
     ]
    }
   ],
   "source": [
    "#Question 48\n",
    "#  Create a list of the first `n` triangular numbers\n",
    "triangular_numbers = []\n",
    "total = 0\n",
    "n = int(input(\"Enter the value of n:\"))\n",
    "\n",
    "for i in range(1,n):\n",
    "    total +=i\n",
    "    triangular_numbers.append(total)\n",
    "print(triangular_numbers)"
   ]
  },
  {
   "cell_type": "code",
   "execution_count": 15,
   "id": "7b08316b-196c-4a2d-895b-2c1911c3ea5e",
   "metadata": {},
   "outputs": [
    {
     "name": "stdout",
     "output_type": "stream",
     "text": [
      "A subsequent list is present in the list\n"
     ]
    }
   ],
   "source": [
    "#Question 49\n",
    "# Check if a list contains another list as a subsequence\n",
    "\n",
    "l = [1,3,2,5,6,7,[1,2,3]]\n",
    "flag = 0\n",
    "for i in l:\n",
    "    if type(i)==list:\n",
    "        flag = 1\n",
    "if flag == 0:\n",
    "    print(\"A subsequent list is not present in the list\")\n",
    "else:\n",
    "    print(\"A subsequent list is present in the list\")\n",
    "        \n"
   ]
  },
  {
   "cell_type": "code",
   "execution_count": 2,
   "id": "61750500-db15-48ab-a1ba-df8e4ecb16af",
   "metadata": {},
   "outputs": [
    {
     "name": "stdout",
     "output_type": "stream",
     "text": [
      "[2, 1, 3, 4]\n"
     ]
    }
   ],
   "source": [
    "#Question 50\n",
    "# Swap two elements in a list by their indices\n",
    "\n",
    "l = [1,2,3,4]\n",
    "\n",
    "l[0],l[1]=l[1],l[0]\n",
    "print(l)"
   ]
  },
  {
   "cell_type": "code",
   "execution_count": 32,
   "id": "083b3489-f0dc-4c8f-825d-f0f60780dbab",
   "metadata": {},
   "outputs": [
    {
     "name": "stdout",
     "output_type": "stream",
     "text": [
      "(1, 2, 3, 4, 5)\n"
     ]
    }
   ],
   "source": [
    "#Tuple based practice problems\n",
    "# Question 1\n",
    "# Create a tuple with integers from 1 to 5\n",
    "t = ()\n",
    "for i in range(1,6):\n",
    "    t+=(i,)\n",
    "print(t)\n",
    "\n",
    "    "
   ]
  },
  {
   "cell_type": "code",
   "execution_count": 9,
   "id": "c313bd26-4791-4800-af5a-1f1851f0d819",
   "metadata": {},
   "outputs": [
    {
     "name": "stdout",
     "output_type": "stream",
     "text": [
      "The third element is 3\n"
     ]
    }
   ],
   "source": [
    "#Question 2\n",
    "# Access the third element of a tuple\n",
    "\n",
    "t = (1, 2, 3, 4, 5)\n",
    "print(f\"The third element is {t[2]}\")\n",
    "\n"
   ]
  },
  {
   "cell_type": "code",
   "execution_count": 10,
   "id": "d7809c47-e16c-40c7-a44e-d7fec82cfb23",
   "metadata": {},
   "outputs": [
    {
     "name": "stdout",
     "output_type": "stream",
     "text": [
      "The length of the tuple is 5\n"
     ]
    }
   ],
   "source": [
    "#Question 3\n",
    "# Find the length of a tuple without using the `len()` function\n",
    "\n",
    "t = (1, 2, 3, 4, 5)\n",
    "counter = 0\n",
    "for i in t:\n",
    "    counter+=1\n",
    "print(f\"The length of the tuple is {counter}\")\n"
   ]
  },
  {
   "cell_type": "code",
   "execution_count": 18,
   "id": "68257a5a-e381-4594-881c-df9cbdc039bd",
   "metadata": {},
   "outputs": [
    {
     "name": "stdin",
     "output_type": "stream",
     "text": [
      "Ehter the element: 9\n"
     ]
    },
    {
     "name": "stdout",
     "output_type": "stream",
     "text": [
      "Enter a valid element\n"
     ]
    }
   ],
   "source": [
    "#Question 4\n",
    "#  Count the occurrences of an element in a tuple\n",
    "\n",
    "t = (1, 2, 3, 4, 5)\n",
    "\n",
    "element =int(input(\"Ehter the element:\"))\n",
    "if element in t:\n",
    "    count = t.count(element)\n",
    "    print(f\"The number of occurrences of the {element} is {count}\") \n",
    "else:\n",
    "    print(\"element is not in the list\")"
   ]
  },
  {
   "cell_type": "code",
   "execution_count": 20,
   "id": "2fb767e5-a2d4-4434-bb94-b2b545905599",
   "metadata": {},
   "outputs": [
    {
     "name": "stdin",
     "output_type": "stream",
     "text": [
      "Enter the element d\n"
     ]
    },
    {
     "name": "stdout",
     "output_type": "stream",
     "text": [
      "The first occurence of the element d is in index 3\n"
     ]
    }
   ],
   "source": [
    "#Question 5\n",
    "# Find the index of the first occurrence of an element in a tuple\n",
    "t = ('a','b','c','d','e','d')\n",
    "\n",
    "element = input(\"Enter the element\")\n",
    "\n",
    "for i in t:\n",
    "    if element in t:\n",
    "        index = t.index(element)\n",
    "print(f\"The first occurence of the element {element} is in index {index}\")"
   ]
  },
  {
   "cell_type": "code",
   "execution_count": 23,
   "id": "3af8d96e-81ed-4a21-9eef-bb3d1b05408b",
   "metadata": {},
   "outputs": [
    {
     "name": "stdin",
     "output_type": "stream",
     "text": [
      "Enter the element a\n"
     ]
    },
    {
     "name": "stdout",
     "output_type": "stream",
     "text": [
      "Element exists in tuple\n"
     ]
    }
   ],
   "source": [
    "#Question 6\n",
    "# Check if an element exists in a tuple.\n",
    "\n",
    "t = ('a','b','c','d','e','d')\n",
    "\n",
    "element = input(\"Enter the element\")\n",
    "\n",
    "if element in t:\n",
    "    print(\"Element exists in tuple\")\n",
    "else:\n",
    "    print(\"Element doesnt exist in tuple\")"
   ]
  },
  {
   "cell_type": "code",
   "execution_count": 25,
   "id": "1eb058fa-19ab-49ab-879a-18bae1fc799c",
   "metadata": {},
   "outputs": [
    {
     "name": "stdout",
     "output_type": "stream",
     "text": [
      "The converted tuple into list is ['a', 'b', 'c', 'd', 'e', 'd']\n"
     ]
    }
   ],
   "source": [
    "#Question 7\n",
    "# Convert a tuple to a list.\n",
    "\n",
    "t = ('a','b','c','d','e','d')\n",
    "l = list(t)\n",
    "print(f\"The converted tuple into list is {l}\")\n"
   ]
  },
  {
   "cell_type": "code",
   "execution_count": 26,
   "id": "f0e94033-30f3-47b4-b9d5-81ccf4223c28",
   "metadata": {},
   "outputs": [
    {
     "name": "stdout",
     "output_type": "stream",
     "text": [
      "The converted list into tuple is ('a', 'b', 'c', 'd', 'e', 'd')\n"
     ]
    }
   ],
   "source": [
    "#Question 8\n",
    "# convert a list to a tuple\n",
    "\n",
    "l = ['a', 'b', 'c', 'd', 'e', 'd']\n",
    "t = tuple(l)\n",
    "print(f\"The converted list into tuple is {t}\")"
   ]
  },
  {
   "cell_type": "code",
   "execution_count": 29,
   "id": "09d3ab91-f045-4cac-ae6c-eecd2b162447",
   "metadata": {},
   "outputs": [
    {
     "name": "stdout",
     "output_type": "stream",
     "text": [
      "The value of unpacked variables are (1, 2, 3, 4)\n"
     ]
    }
   ],
   "source": [
    "#Question 9\n",
    "# Unpack the elements of a tuple into variables.\n",
    "t = (1,2,3,4)\n",
    "a,b,c,d = (1,2,3,4)\n",
    "print(f\"The value of unpacked variables are {a,b,c,d}\")"
   ]
  },
  {
   "cell_type": "code",
   "execution_count": 35,
   "id": "7c0383b0-045b-4a38-b903-38cb58f303fc",
   "metadata": {},
   "outputs": [
    {
     "name": "stdout",
     "output_type": "stream",
     "text": [
      "The tuple of even integers is (2, 4, 6, 8, 10)\n"
     ]
    }
   ],
   "source": [
    "#Question 10\n",
    "# Create a tuple of even numbers from 1 to 10.\n",
    "t = ()\n",
    "for i in range(1,11):\n",
    "    if i%2==0:\n",
    "        t +=(i,)\n",
    "print(f\"The tuple of even integers is {t}\")"
   ]
  },
  {
   "cell_type": "code",
   "execution_count": 34,
   "id": "1575df23-0451-4dde-81f0-cc6bd61d7634",
   "metadata": {},
   "outputs": [
    {
     "name": "stdout",
     "output_type": "stream",
     "text": [
      "The tuple of odd intgers is (1, 3, 5, 7, 9)\n"
     ]
    }
   ],
   "source": [
    "#Question 11\n",
    "# Create a tuple of odd numbers from 1 to 10\n",
    "t = ()\n",
    "for i in range(1,11):\n",
    "    if i%2!=0:\n",
    "        t+=(i,)\n",
    "print(f\"The tuple of odd intgers is {t}\")"
   ]
  },
  {
   "cell_type": "code",
   "execution_count": 2,
   "id": "93e087f5-0d12-49d6-bda2-284a946b6e79",
   "metadata": {},
   "outputs": [
    {
     "name": "stdout",
     "output_type": "stream",
     "text": [
      "The concatenated tuple is (1, 2, 3, 4, 0, 9, 8, 7)\n"
     ]
    }
   ],
   "source": [
    "#Question 12\n",
    "# Concatenate two tuples\n",
    "\n",
    "t1 = (1,2,3,4)\n",
    "t2 = (0,9,8,7)\n",
    "print(\"The concatenated tuple is\",t1+t2)"
   ]
  },
  {
   "cell_type": "code",
   "execution_count": 4,
   "id": "1b62d979-5c61-43f8-9ef2-1b2c155e97aa",
   "metadata": {},
   "outputs": [
    {
     "name": "stdout",
     "output_type": "stream",
     "text": [
      "The repeated tuple is (1, 2, 3, 4, 1, 2, 3, 4, 1, 2, 3, 4)\n"
     ]
    }
   ],
   "source": [
    "#Question 13\n",
    "# repeat a tuple three times\n",
    "t1 = (1,2,3,4)\n",
    "print(\"The repeated tuple is\",t1*3)"
   ]
  },
  {
   "cell_type": "code",
   "execution_count": 5,
   "id": "5ebd9783-d622-4179-9642-11c7f877c4f1",
   "metadata": {},
   "outputs": [
    {
     "name": "stdout",
     "output_type": "stream",
     "text": [
      "The tuple is empty\n"
     ]
    }
   ],
   "source": [
    "#Question 14\n",
    "# Check if a tuple is empty.\n",
    "\n",
    "t1 = ()\n",
    "if len(t1)==0:\n",
    "    print(\"The tuple is empty\")\n",
    "else:\n",
    "    print(\"Tuple is not empty\")\n"
   ]
  },
  {
   "cell_type": "code",
   "execution_count": 9,
   "id": "92947df8-aa65-47f5-b8d5-fe015b4f08e5",
   "metadata": {},
   "outputs": [
    {
     "name": "stdout",
     "output_type": "stream",
     "text": [
      "The nested tuples is ((1, 2, 3, 4), (0, 9, 8, 7))\n"
     ]
    }
   ],
   "source": [
    "#Question 15\n",
    "# Create a nested tuple\n",
    "\n",
    "t1 = (1,2,3,4),\n",
    "t2 = (0,9,8,7),\n",
    "print(\"The nested tuples is\", t1 + t2)\n",
    "    "
   ]
  },
  {
   "cell_type": "code",
   "execution_count": 12,
   "id": "3f62f3cd-3b53-4bba-84ca-ad1a11eb319b",
   "metadata": {},
   "outputs": [
    {
     "name": "stdout",
     "output_type": "stream",
     "text": [
      "The first element of the nested list is 1\n"
     ]
    }
   ],
   "source": [
    "#Question 16\n",
    "# Access the first element of a nested tuple.\n",
    "\n",
    "t = ((1, 2, 3, 4), (0, 9, 8, 7))\n",
    "\n",
    "print(f\"The first element of the nested list is {t[0][0]}\")\n",
    "\n"
   ]
  },
  {
   "cell_type": "code",
   "execution_count": 16,
   "id": "2b5ad37d-7825-42ad-8956-64e1d3bb4eb0",
   "metadata": {},
   "outputs": [
    {
     "name": "stdout",
     "output_type": "stream",
     "text": [
      "The tuple with one element is (1,)\n"
     ]
    }
   ],
   "source": [
    "#Question 17\n",
    "# Create a tuple with a single element\n",
    "t=(1,)\n",
    "print(f\"The tuple with one element is {t}\")"
   ]
  },
  {
   "cell_type": "code",
   "execution_count": 18,
   "id": "11004831-1330-4474-9db9-127bf27b2f51",
   "metadata": {},
   "outputs": [
    {
     "name": "stdout",
     "output_type": "stream",
     "text": [
      "The common elements are (1, 2, 3)\n"
     ]
    }
   ],
   "source": [
    "#Question 18\n",
    "#Compare two tuples\n",
    "\n",
    "t1 = (1,2,3,4)\n",
    "t2 = (1,2,2,3,5)\n",
    "common = ()\n",
    "\n",
    "\n",
    "for i in t1:\n",
    "    if i in t2:\n",
    "        common+=(i,)\n",
    "    elif i not in t2:\n",
    "        uncommon+=(i,)\n",
    "print(f\"The common elements are {common}\")\n",
    "        "
   ]
  },
  {
   "cell_type": "code",
   "execution_count": 2,
   "id": "3f88b838-a71b-44fe-b65e-6be5f57bfdb0",
   "metadata": {},
   "outputs": [
    {
     "name": "stdout",
     "output_type": "stream",
     "text": [
      "Before deletion (1, 2, 3, 4)\n"
     ]
    },
    {
     "ename": "NameError",
     "evalue": "name 't1' is not defined",
     "output_type": "error",
     "traceback": [
      "\u001b[0;31m---------------------------------------------------------------------------\u001b[0m",
      "\u001b[0;31mNameError\u001b[0m                                 Traceback (most recent call last)",
      "Cell \u001b[0;32mIn[2], line 7\u001b[0m\n\u001b[1;32m      4\u001b[0m \u001b[38;5;28mprint\u001b[39m(\u001b[38;5;124mf\u001b[39m\u001b[38;5;124m\"\u001b[39m\u001b[38;5;124mBefore deletion \u001b[39m\u001b[38;5;132;01m{\u001b[39;00mt1\u001b[38;5;132;01m}\u001b[39;00m\u001b[38;5;124m\"\u001b[39m)\n\u001b[1;32m      6\u001b[0m \u001b[38;5;28;01mdel\u001b[39;00m(t1)\n\u001b[0;32m----> 7\u001b[0m \u001b[38;5;28mprint\u001b[39m(\u001b[38;5;124mf\u001b[39m\u001b[38;5;124m\"\u001b[39m\u001b[38;5;124mAfter deletion \u001b[39m\u001b[38;5;132;01m{\u001b[39;00m\u001b[43mt1\u001b[49m\u001b[38;5;132;01m}\u001b[39;00m\u001b[38;5;124m\"\u001b[39m)\n",
      "\u001b[0;31mNameError\u001b[0m: name 't1' is not defined"
     ]
    }
   ],
   "source": [
    "#Question 19\n",
    "# Delete a tuple.\n",
    "t1 = (1,2,3,4)\n",
    "print(f\"Before deletion {t1}\")\n",
    "\n",
    "del(t1)\n",
    "print(f\"After deletion {t1}\")\n"
   ]
  },
  {
   "cell_type": "code",
   "execution_count": 24,
   "id": "8d41c73d-eb3d-4ade-b052-ad8799b6f721",
   "metadata": {},
   "outputs": [
    {
     "name": "stdout",
     "output_type": "stream",
     "text": [
      "The sliced tuple is (1, 2)\n"
     ]
    }
   ],
   "source": [
    "#Question 20\n",
    "# Slice a tuple\n",
    "t1 = (1,2,3,4)\n",
    "print(f\"The sliced tuple is {t1[0:2]}\")"
   ]
  },
  {
   "cell_type": "code",
   "execution_count": 26,
   "id": "88587994-d1b4-49c0-9d58-c145ac7135c5",
   "metadata": {},
   "outputs": [
    {
     "name": "stdout",
     "output_type": "stream",
     "text": [
      "The maximum value is 98\n"
     ]
    }
   ],
   "source": [
    "#Question 21\n",
    "# Find the maximum value in a tuple.\n",
    "\n",
    "t1 = (1,2,4,56,78,98)\n",
    "max = t1[0]\n",
    "for i in range(0,len(t1)):\n",
    "    if t1[i]>max:\n",
    "        max = t1[i]\n",
    "print(f\"The maximum value is {max}\")\n"
   ]
  },
  {
   "cell_type": "code",
   "execution_count": 28,
   "id": "775c453d-11c0-400d-82e6-f22dddc62c96",
   "metadata": {},
   "outputs": [
    {
     "name": "stdout",
     "output_type": "stream",
     "text": [
      "The maximum value is 1\n"
     ]
    }
   ],
   "source": [
    "#Question 22\n",
    "# Find the minimum value in a tuple.\n",
    "\n",
    "t1 = (1,2,4,56,78,98)\n",
    "mini = t1[0]\n",
    "for i in range(0,len(t1)):\n",
    "    if t1[i]<mini:\n",
    "        mini = t1[i]\n",
    "print(f\"The maximum value is {mini}\")\n",
    "\n"
   ]
  },
  {
   "cell_type": "code",
   "execution_count": 29,
   "id": "5da169fc-4b46-491f-8aec-59edfee87013",
   "metadata": {},
   "outputs": [
    {
     "name": "stdin",
     "output_type": "stream",
     "text": [
      "Enter a string: saji\n"
     ]
    },
    {
     "name": "stdout",
     "output_type": "stream",
     "text": [
      "The tuple of characters ('s', 'a', 'j', 'i')\n"
     ]
    }
   ],
   "source": [
    "#Question 23\n",
    "# Convert a string to a tuple of character\n",
    "s = input(\"Enter a string:\")\n",
    "t = ()\n",
    "for i in s:\n",
    "    t+=(i,)\n",
    "print(f\"The tuple of characters {t}\")"
   ]
  },
  {
   "cell_type": "code",
   "execution_count": 30,
   "id": "6307cebf-2b7b-4002-905f-3c13e93b9dbd",
   "metadata": {},
   "outputs": [
    {
     "name": "stdout",
     "output_type": "stream",
     "text": [
      "The string of characters is saji\n"
     ]
    }
   ],
   "source": [
    "#Question 24\n",
    "# Convert a tuple of characters to a string\n",
    "\n",
    "t = ('s', 'a', 'j', 'i')\n",
    "s = \"\"\n",
    "for i in t:\n",
    "    s+=i\n",
    "print(f\"The string of characters is {s}\")"
   ]
  },
  {
   "cell_type": "code",
   "execution_count": 32,
   "id": "0b3dd73c-6493-4155-99db-6acad5cdef35",
   "metadata": {},
   "outputs": [
    {
     "name": "stdout",
     "output_type": "stream",
     "text": [
      "The combined tuple is (1, 2, 3, 4, 'a', 'b', 'c', 'd', True, False)\n"
     ]
    }
   ],
   "source": [
    "#Question 25\n",
    "# Create a tuple from multiple data types\n",
    "integer = (1,2,3,4)\n",
    "string = ('a','b','c','d')\n",
    "boolean = (True, False)\n",
    "\n",
    "combined_tuple = integer + string +boolean\n",
    "print(f\"The combined tuple is {combined_tuple}\")"
   ]
  },
  {
   "cell_type": "code",
   "execution_count": 3,
   "id": "f9f21a0f-0cc6-41c8-94a0-e5da42773cd7",
   "metadata": {},
   "outputs": [
    {
     "name": "stdout",
     "output_type": "stream",
     "text": [
      "the tuples are not identical\n"
     ]
    }
   ],
   "source": [
    "#Question 26\n",
    "# Check if two tuples are identical\n",
    "t1 = (1,2,3,4)\n",
    "t2 = (6,7,8,20)\n",
    "if t1==t2:\n",
    "    print(\"The  tuples are identical\")\n",
    "else:\n",
    "    print(\"The tuples are not identical\")"
   ]
  },
  {
   "cell_type": "code",
   "execution_count": 51,
   "id": "e8bcec99-06f8-4686-aa37-d13eae12ba67",
   "metadata": {},
   "outputs": [
    {
     "name": "stdout",
     "output_type": "stream",
     "text": [
      "The sorted tuple is(1, 3, 7, 11, 91)\n"
     ]
    }
   ],
   "source": [
    "#Question 27\n",
    "# Sort the elements of a tuple\n",
    "\n",
    "sorted_tuple = ()\n",
    "\n",
    "t = (1,3,91,7,11)\n",
    "\n",
    "t1 = sorted(t)\n",
    "print(f\"The sorted tuple is{tuple(t1)}\")\n",
    "       \n",
    "               "
   ]
  },
  {
   "cell_type": "code",
   "execution_count": 12,
   "id": "3b98823d-15c9-4714-b2b6-81fe24469410",
   "metadata": {},
   "outputs": [
    {
     "name": "stdout",
     "output_type": "stream",
     "text": [
      "The tuple of strings is ('1', '3', '5', '7', '11')\n"
     ]
    }
   ],
   "source": [
    "#Question 28\n",
    "# Convert a tuple of integers to a tuple of string\n",
    "\n",
    "t = (1,3,5,7,11)\n",
    "\n",
    "t1 = ()\n",
    "\n",
    "for i in t:\n",
    "    t1+=(str(i),)\n",
    "    \n",
    "print(f\"The tuple of strings is {t1}\")\n",
    "\n"
   ]
  },
  {
   "cell_type": "code",
   "execution_count": 13,
   "id": "0213c9b9-00ac-4aaa-a7a4-7182ea95eab4",
   "metadata": {},
   "outputs": [
    {
     "name": "stdout",
     "output_type": "stream",
     "text": [
      "The tuple of lists is (1, 3, 5, 7, 11)\n"
     ]
    }
   ],
   "source": [
    "#Question 29\n",
    "# Convert a tuple of strings to a tuple of integers.\n",
    "\n",
    "t = ('1', '3', '5', '7', '11')\n",
    "t1 = ()\n",
    "\n",
    "for i in t:\n",
    "    t1+=(int(i),)\n",
    "    \n",
    "print(f\"The tuple of lists is {t1}\")"
   ]
  },
  {
   "cell_type": "code",
   "execution_count": 14,
   "id": "fe7fa5a9-1d30-4430-869c-9d1f524b0432",
   "metadata": {},
   "outputs": [
    {
     "name": "stdout",
     "output_type": "stream",
     "text": [
      "The merged tuple is (1, 2, 3, 4, 6, 7, 8, 9)\n"
     ]
    }
   ],
   "source": [
    "#Question 30\n",
    "# Merge two tuples\n",
    "t1 = (1,2,3,4)\n",
    "t2 = (6,7,8,9)\n",
    "print(\"The merged tuple is\", t1 + t2) "
   ]
  },
  {
   "cell_type": "code",
   "execution_count": 46,
   "id": "4b3fae1c-891e-4eef-90d6-b62339c4e872",
   "metadata": {},
   "outputs": [
    {
     "name": "stdout",
     "output_type": "stream",
     "text": [
      "(5, 6, 6, 7, 8, 9, 3)\n"
     ]
    }
   ],
   "source": [
    "#Question 31\n",
    "# Flatten a nested tuple\n",
    "\n",
    "nested_tuple = ([5, 6], [6, 7, 8, 9], [3])\n",
    "\n",
    "flattened_tuple = tuple(sum(nested_tuple, []))\n",
    "print(flattened_tuple)\n"
   ]
  },
  {
   "cell_type": "code",
   "execution_count": 65,
   "id": "d858f086-5cb3-4985-b5a6-e617f6a6f041",
   "metadata": {},
   "outputs": [
    {
     "name": "stdin",
     "output_type": "stream",
     "text": [
      "Enter the starting value 2\n"
     ]
    },
    {
     "name": "stdout",
     "output_type": "stream",
     "text": [
      "(2, 3, 5, 7)\n"
     ]
    }
   ],
   "source": [
    "#Question 32\n",
    "# Create a tuple of the first 5 prime numbers\n",
    "t = ()\n",
    "start = int(input(\"Enter the starting value\"))\n",
    "\n",
    "\n",
    "for num in range(start, start+7):\n",
    "    if num > 1:\n",
    "        for i in range(2, num):\n",
    "            if (num % i) == 0:\n",
    "                break\n",
    "        else:\n",
    "            t+=num,\n",
    "        \n",
    "print(t)"
   ]
  },
  {
   "cell_type": "code",
   "execution_count": null,
   "id": "781d7e98-7350-4a7a-8f1e-db496a6808e4",
   "metadata": {},
   "outputs": [],
   "source": [
    "#Question 33\n",
    "# Check if a tuple is a palindrome\n",
    "\n",
    "t = (1,2,1)\n",
    "if t==t[::-1]:\n",
    "    print(\"The tuple is a palindrome\")\n",
    "else:\n",
    "    print(\"The tuple is not a palindrome\")"
   ]
  },
  {
   "cell_type": "code",
   "execution_count": 24,
   "id": "6c1b07e7-9328-4ca4-9588-4bdb5b914922",
   "metadata": {},
   "outputs": [
    {
     "name": "stdout",
     "output_type": "stream",
     "text": [
      "The tuple with squares of numbers form 1 to 5 (1, 4, 9, 16, 25)\n"
     ]
    }
   ],
   "source": [
    "#Question 34\n",
    "# Create a tuple of squares of numbers from 1 to 5\n",
    "t = ()\n",
    "for i in range(1,6):\n",
    "    t+=(i**2,)\n",
    "print(f\"The tuple with squares of numbers form 1 to 5 {t}\")"
   ]
  },
  {
   "cell_type": "code",
   "execution_count": 29,
   "id": "8899782a-e9d2-4faf-8ab8-d77f5d77893f",
   "metadata": {},
   "outputs": [
    {
     "name": "stdout",
     "output_type": "stream",
     "text": [
      "The tuple of filtered even numbers is (2, 4, 6, 8)\n"
     ]
    }
   ],
   "source": [
    "#Question 35\n",
    "# Filter out all even numbers from a tuple\n",
    "\n",
    "t = (1,2,3,4,5,6,7,8)\n",
    "t1 = ()\n",
    "for i in t:\n",
    "    if i%2==0:\n",
    "        t1+=(i,)\n",
    "print(f\"The tuple of filtered even numbers is {t1}\")"
   ]
  },
  {
   "cell_type": "code",
   "execution_count": 30,
   "id": "ec393e9d-dee9-4750-a51f-c2c79e94acda",
   "metadata": {},
   "outputs": [
    {
     "name": "stdout",
     "output_type": "stream",
     "text": [
      "The tuple with the elements multiplied by 2 (2, 4, 6, 8, 10, 12, 14, 16)\n"
     ]
    }
   ],
   "source": [
    "#Question 36\n",
    "# Multiply all elements in a tuple by 2\n",
    "\n",
    "t = (1,2,3,4,5,6,7,8)\n",
    "t1 = ()\n",
    "for i in t:\n",
    "    t1+=(i*2,)\n",
    "print(f\"The tuple with the elements multiplied by 2 {t1}\")\n",
    "\n"
   ]
  },
  {
   "cell_type": "code",
   "execution_count": 37,
   "id": "a1bc57a2-d645-4883-95ba-b1a486cb1f67",
   "metadata": {},
   "outputs": [
    {
     "name": "stdout",
     "output_type": "stream",
     "text": [
      "The tuple of random numbers is (76, 40, 97, 94, 47, 27, 31, 54, 84, 42)\n"
     ]
    }
   ],
   "source": [
    "#Question 37\n",
    "# Create a tuple of random numbers\n",
    "import random\n",
    "t = ()\n",
    "for i in range(0,10):\n",
    "    random_number = random.randint(1,100)\n",
    "    t+=(random_number,)\n",
    "print(F\"The tuple of random numbers is {t}\")\n",
    "\n",
    "\n"
   ]
  },
  {
   "cell_type": "code",
   "execution_count": 52,
   "id": "22f5ddba-305b-4b23-aa5c-44b414400e73",
   "metadata": {},
   "outputs": [
    {
     "name": "stdout",
     "output_type": "stream",
     "text": [
      "The tuple is not sorted\n"
     ]
    }
   ],
   "source": [
    "#Question 38\n",
    "# Check if a tuple is sorted\n",
    "\n",
    "t = (1,3,91,7,11)\n",
    "\n",
    "flag = 0\n",
    "\n",
    "for i in range(1,len(t)):\n",
    "    if t[i]<t[i-1]:\n",
    "        flag = 1\n",
    "if flag==1:\n",
    "    print(\"The tuple is not sorted\")\n",
    "else:\n",
    "    print(\"The tuple is sorted\")\n",
    "       "
   ]
  },
  {
   "cell_type": "code",
   "execution_count": 71,
   "id": "33fa1d4e-1f1e-47c0-8dae-4f524f373378",
   "metadata": {},
   "outputs": [
    {
     "name": "stdin",
     "output_type": "stream",
     "text": [
      "Enter the n 3\n"
     ]
    },
    {
     "name": "stdout",
     "output_type": "stream",
     "text": [
      "(3, 2, 1, 5, 6, 7)\n"
     ]
    }
   ],
   "source": [
    "#Question 39\n",
    "# Rotate a tuple to the left by `n` positions\n",
    "\n",
    "t = (3,2,1,5,6,7)\n",
    "\n",
    "n = int(input(\"Enter the n\"))\n",
    "\n",
    "x = t[0:len(t)-n]+t[len(t)-n:len(t)] \n",
    "print(x)"
   ]
  },
  {
   "cell_type": "code",
   "execution_count": 69,
   "id": "60ff4c26-b6cd-40eb-8047-071e9032829d",
   "metadata": {},
   "outputs": [
    {
     "name": "stdin",
     "output_type": "stream",
     "text": [
      "Enter the n 3\n"
     ]
    },
    {
     "name": "stdout",
     "output_type": "stream",
     "text": [
      "(5, 6, 7, 3, 2, 1)\n"
     ]
    }
   ],
   "source": [
    "#Question 40\n",
    "# Rotate a tuple to the right by `n` positions\n",
    "\n",
    "t = (3,2,1,5,6,7)\n",
    "n = int(input(\"Enter the n\"))\n",
    "x = t[len(t)-n:len(t)] + t[0:len(t)-n]\n",
    "print(x)\n"
   ]
  },
  {
   "cell_type": "code",
   "execution_count": 7,
   "id": "c5f736f9-33a3-4333-8044-6cd21a00d3df",
   "metadata": {},
   "outputs": [
    {
     "name": "stdin",
     "output_type": "stream",
     "text": [
      "Enter the value of n: 4\n"
     ]
    },
    {
     "name": "stdout",
     "output_type": "stream",
     "text": [
      "(1, 2, 3, 5, 8)\n"
     ]
    }
   ],
   "source": [
    "#Question 41\n",
    "# Create a tuple of the first 5 Fibonacci numbers\n",
    "\n",
    "t=()\n",
    "n = int(input(\"Enter the value of n:\"))\n",
    "num1 = 0\n",
    "num2 = 1\n",
    "next_number = num2 \n",
    "count = 0\n",
    " \n",
    "while count <= n:\n",
    "    t+=(next_number,)\n",
    "    count += 1\n",
    "    num1, num2 = num2, next_number\n",
    "    next_number = num1 + num2\n",
    "print(t)"
   ]
  },
  {
   "cell_type": "code",
   "execution_count": 15,
   "id": "728897ee-8f5b-4c2d-bfbd-b6273245c1a4",
   "metadata": {},
   "outputs": [
    {
     "name": "stdin",
     "output_type": "stream",
     "text": [
      "Enter the input 6\n"
     ]
    },
    {
     "name": "stdout",
     "output_type": "stream",
     "text": [
      "The user inputed tuple is ('6',)\n"
     ]
    }
   ],
   "source": [
    "#Question 42\n",
    "# Create a tuple from user input.\n",
    "\n",
    "t = tuple(input(\"Enter the input\"))\n",
    "print(f\"The user inputed tuple is {t}\")\n",
    "\n"
   ]
  },
  {
   "cell_type": "code",
   "execution_count": 29,
   "id": "e43e8c0b-dbb3-4282-b024-d1165d21e46c",
   "metadata": {},
   "outputs": [
    {
     "name": "stdout",
     "output_type": "stream",
     "text": [
      "The swapped tuple is (2, 1) \n"
     ]
    }
   ],
   "source": [
    "#Question 43\n",
    "# swap two elements in a tuple\n",
    "t = (1,2)\n",
    "t2 = ()\n",
    "for i in t[::-1]:\n",
    "    t2+=i,\n",
    "print(f\"The swapped tuple is {t2} \")\n"
   ]
  },
  {
   "cell_type": "code",
   "execution_count": 31,
   "id": "1b9009c7-3998-4e93-b06f-819c3ff87abd",
   "metadata": {},
   "outputs": [
    {
     "name": "stdout",
     "output_type": "stream",
     "text": [
      "Reversed tuple is (3, 2, 1)\n"
     ]
    }
   ],
   "source": [
    "#Question 44\n",
    "# Reverse the elements of a tuple\n",
    "t = (1,2,3)\n",
    "print(f\"Reversed tuple is {t[::-1]}\")"
   ]
  },
  {
   "cell_type": "code",
   "execution_count": 38,
   "id": "b5bb5584-8e0f-464b-8a5a-8f06bcc593b3",
   "metadata": {},
   "outputs": [
    {
     "name": "stdin",
     "output_type": "stream",
     "text": [
      "Enter the value of n: 3\n"
     ]
    },
    {
     "name": "stdout",
     "output_type": "stream",
     "text": [
      "The first n powers of 2 is (2, 4, 8)\n"
     ]
    }
   ],
   "source": [
    "#Question 45\n",
    "# Create a tuple of the first `n` powers of 2\n",
    "\n",
    "t = ()\n",
    "\n",
    "n = int(input(\"Enter the value of n:\"))\n",
    "\n",
    "for i in range(1,n+1):\n",
    "    t+=(2**i,)\n",
    "    \n",
    "print(f\"The first n powers of 2 is {t}\")\n",
    "\n"
   ]
  },
  {
   "cell_type": "code",
   "execution_count": 42,
   "id": "aafc7c21-e637-4c37-8c10-c4f34be44338",
   "metadata": {},
   "outputs": [
    {
     "name": "stdout",
     "output_type": "stream",
     "text": [
      "The longest string in the tuple is name\n"
     ]
    }
   ],
   "source": [
    "#Question 46\n",
    "# Find the longest string in a tuple of strings\n",
    "\n",
    "t = ('my', 'name', 'is')\n",
    "\n",
    "longest = t[0]\n",
    "for i in range(0,len(t)):\n",
    "    if len(t[i])>len(longest):\n",
    "        longest = t[i]\n",
    "print(f\"The longest string in the tuple is '{longest}'\")\n",
    "    "
   ]
  },
  {
   "cell_type": "code",
   "execution_count": 44,
   "id": "eebab2b1-8a25-477f-8126-2321c97a2643",
   "metadata": {},
   "outputs": [
    {
     "name": "stdout",
     "output_type": "stream",
     "text": [
      "The longest string in the tuple is 'is'\n"
     ]
    }
   ],
   "source": [
    "#Question 47\n",
    "# Find the shortest string in a tuple of strings\n",
    "\n",
    "t = ('my', 'name', 'is')\n",
    "\n",
    "shortest = t[0]\n",
    "for i in range(0,len(t)):\n",
    "    if len(t[i])<len(longest):\n",
    "        shortest = t[i]\n",
    "print(f\"The shortest string in the tuple is '{shortest}'\")"
   ]
  },
  {
   "cell_type": "code",
   "execution_count": 45,
   "id": "aac3c9b9-8764-47e8-8a43-6df68a12ed6e",
   "metadata": {},
   "outputs": [
    {
     "name": "stdin",
     "output_type": "stream",
     "text": [
      "Enter the value of n: 5\n"
     ]
    },
    {
     "name": "stdout",
     "output_type": "stream",
     "text": [
      "(1, 3, 6, 10)\n"
     ]
    }
   ],
   "source": [
    "#Question 48\n",
    "# Create a tuple of the first `n` triangular numbers\n",
    "\n",
    "triangular_numbers = ()\n",
    "total = 0\n",
    "n = int(input(\"Enter the value of n:\"))\n",
    "\n",
    "for i in range(1,n):\n",
    "    total +=i\n",
    "    triangular_numbers+=(total,)\n",
    "print(triangular_numbers)"
   ]
  },
  {
   "cell_type": "code",
   "execution_count": 47,
   "id": "cbd40034-dc7d-4076-a9cb-87caeb49b5ef",
   "metadata": {},
   "outputs": [
    {
     "name": "stdout",
     "output_type": "stream",
     "text": [
      "A subsequent tuple is present in the tuple\n"
     ]
    }
   ],
   "source": [
    "#Question 49\n",
    "# Check if a tuple contains another tuple as a subsequence\n",
    "\n",
    "\n",
    "t = (1,3,2,5,6,7,(1,2,3))\n",
    "flag = 0\n",
    "for i in t:\n",
    "    if type(i)==tuple:\n",
    "        flag = 1\n",
    "if flag == 0:\n",
    "    print(\"A subsequent tuple is not present in the tuple\")\n",
    "else:\n",
    "    print(\"A subsequent tuple is present in the tuple\")\n",
    "        "
   ]
  },
  {
   "cell_type": "code",
   "execution_count": 53,
   "id": "41a75a31-fb56-4057-a020-6e665a3db75d",
   "metadata": {},
   "outputs": [
    {
     "name": "stdin",
     "output_type": "stream",
     "text": [
      "Enter the length of the tuple: 5\n"
     ]
    },
    {
     "name": "stdout",
     "output_type": "stream",
     "text": [
      "(0, 1, 0, 1, 0)\n"
     ]
    }
   ],
   "source": [
    "#Question 50\n",
    "# Create a tuple of alternating 1s and 0s of length `n`\n",
    "t = ()\n",
    "n = int(input(\"Enter the length of the tuple:\"))\n",
    "for i in range(0,n):\n",
    "    if i%2==1:\n",
    "        t+=1,\n",
    "    else:\n",
    "        t+=0,\n",
    "\n",
    "print(t)\n"
   ]
  },
  {
   "cell_type": "code",
   "execution_count": 55,
   "id": "0c604050-f8ea-4353-bf29-0ca469e0b427",
   "metadata": {},
   "outputs": [
    {
     "name": "stdout",
     "output_type": "stream",
     "text": [
      "The set of integers is {1, 2, 3, 4, 5}\n"
     ]
    }
   ],
   "source": [
    "#Set based practice problems\n",
    "#Question1\n",
    "# Create a set with integers from 1 to 5.\n",
    "\n",
    "s = set()\n",
    "for i in range(1,6):\n",
    "    s.add(i)\n",
    "print(f\"The set of integers is {s}\")"
   ]
  },
  {
   "cell_type": "code",
   "execution_count": 57,
   "id": "ed23fbe3-3739-4006-aaa1-369fb917731a",
   "metadata": {},
   "outputs": [
    {
     "name": "stdin",
     "output_type": "stream",
     "text": [
      "Enter the element you want to add: e\n"
     ]
    },
    {
     "name": "stdout",
     "output_type": "stream",
     "text": [
      "The new set is {1, 2, 3, 4, 5, 'e'}\n"
     ]
    }
   ],
   "source": [
    "#Question 2\n",
    "# Add an element to a set.\n",
    "\n",
    "s = {1, 2, 3, 4, 5}\n",
    "element = input(\"Enter the element you want to add:\")\n",
    "s.add(element)\n",
    "print(f\"The new set is {s}\")"
   ]
  },
  {
   "cell_type": "code",
   "execution_count": 58,
   "id": "7fe45022-c021-4b39-81e3-3e96431576bd",
   "metadata": {},
   "outputs": [
    {
     "name": "stdin",
     "output_type": "stream",
     "text": [
      "Enter the element you want to remove e\n"
     ]
    },
    {
     "name": "stdout",
     "output_type": "stream",
     "text": [
      "The set after removing {1, 2, 3, 4, 5}\n"
     ]
    }
   ],
   "source": [
    "#Question 3\n",
    "# Remove an element from a set.\n",
    "\n",
    "s = {1, 2, 3, 4, 5, 'e'}\n",
    "element = input(\"Enter the element you want to remove\")\n",
    "s.remove(element)\n",
    "print(f\"The set after removing {s}\")"
   ]
  },
  {
   "cell_type": "code",
   "execution_count": 60,
   "id": "3d4fb0be-d220-4ef6-837e-cd89e4de915d",
   "metadata": {},
   "outputs": [
    {
     "name": "stdin",
     "output_type": "stream",
     "text": [
      "Enter the element: 9\n"
     ]
    },
    {
     "name": "stdout",
     "output_type": "stream",
     "text": [
      "The element you entered is not in the set\n"
     ]
    }
   ],
   "source": [
    "#Question 4\n",
    "# Check if an element exists in a set.\n",
    "\n",
    "s = {1, 2, 3, 4, 5}\n",
    "element = int(input(\"Enter the element:\"))\n",
    "if element in s:\n",
    "    print(\"The element you entered is in the set\")\n",
    "else:\n",
    "    print(\"The element you entered is not in the set\")\n"
   ]
  },
  {
   "cell_type": "code",
   "execution_count": 61,
   "id": "3ddb29d7-dcc0-4fe9-ba1d-0859e01fc734",
   "metadata": {},
   "outputs": [
    {
     "name": "stdout",
     "output_type": "stream",
     "text": [
      "The length of the set is 5\n"
     ]
    }
   ],
   "source": [
    "#Question 5\n",
    "# Find the length of a set without using the `len()` function.\n",
    "\n",
    "s = {1, 2, 3, 4, 5}\n",
    "counter = 0\n",
    "for i in s:\n",
    "    counter +=1\n",
    "print(f\"The length of the set is {counter}\")\n",
    "\n"
   ]
  },
  {
   "cell_type": "code",
   "execution_count": 63,
   "id": "e3882067-a49d-4ec7-b920-b7382bc594c8",
   "metadata": {},
   "outputs": [
    {
     "name": "stdout",
     "output_type": "stream",
     "text": [
      "set()\n"
     ]
    }
   ],
   "source": [
    "#Question 6\n",
    "# Clear all elements from a set\n",
    "\n",
    "s = {1, 2, 3, 4, 5}\n",
    "s.clear()\n",
    "print(s)"
   ]
  },
  {
   "cell_type": "code",
   "execution_count": 66,
   "id": "43352b3d-3d32-4df4-9c56-7f5c95c50e9e",
   "metadata": {},
   "outputs": [
    {
     "name": "stdout",
     "output_type": "stream",
     "text": [
      "The set of even numbers is {2, 4, 6, 8, 10}\n"
     ]
    }
   ],
   "source": [
    "#Question 7\n",
    "# Create a set of even numbers from 1 to 10.\n",
    "s = set()\n",
    "for i in range(1,11):\n",
    "    if i%2==0:\n",
    "        s.add(i)\n",
    "print(f\"The set of even numbers is {s}\")\n"
   ]
  },
  {
   "cell_type": "code",
   "execution_count": 67,
   "id": "de791bcc-0098-4314-83e8-041dee658352",
   "metadata": {},
   "outputs": [
    {
     "name": "stdout",
     "output_type": "stream",
     "text": [
      "The set of odd numbers is {1, 3, 5, 7, 9}\n"
     ]
    }
   ],
   "source": [
    "#Question 8\n",
    "# Create a set of odd numbers from 1 to 10.\n",
    "s = set()\n",
    "for i in range(1,11):\n",
    "    if i%2!=0:\n",
    "        s.add(i)\n",
    "print(f\"The set of odd numbers is {s}\")\n"
   ]
  },
  {
   "cell_type": "code",
   "execution_count": 68,
   "id": "1f704ee1-5f52-4f40-aa3c-a188eb7de7be",
   "metadata": {},
   "outputs": [
    {
     "name": "stdout",
     "output_type": "stream",
     "text": [
      "a U b: {1, 2, 3, 4, 5, 6}\n"
     ]
    }
   ],
   "source": [
    "#Question 9\n",
    "# Find the union of two sets\n",
    "\n",
    "a = {1,2,3}\n",
    "b = {4,5,6}\n",
    "\n",
    "print(\"a U b:\", a.union(b))"
   ]
  },
  {
   "cell_type": "code",
   "execution_count": 70,
   "id": "1db447c6-9da7-44ea-a578-655a105a3c36",
   "metadata": {},
   "outputs": [
    {
     "name": "stdout",
     "output_type": "stream",
     "text": [
      "a ∩ b: set()\n"
     ]
    }
   ],
   "source": [
    "#Question 10\n",
    "# Find the intersection of two sets\n",
    "\n",
    "a = {1,2,3}\n",
    "b = {4,5,6}\n",
    "print(\"a ∩ b:\", a.intersection(b))"
   ]
  },
  {
   "cell_type": "code",
   "execution_count": 73,
   "id": "7141a7db-8a9d-44aa-8fc0-11e0e12fc113",
   "metadata": {},
   "outputs": [
    {
     "name": "stdout",
     "output_type": "stream",
     "text": [
      "{6, 7}\n",
      "{1, 2, 4, 8, 9}\n"
     ]
    }
   ],
   "source": [
    "#Question 11\n",
    "# Find the difference between two sets.\n",
    "\n",
    "a= {3,5,6,7}\n",
    "b = {1,2,3,4,5,8,9}\n",
    "print (a.difference(b))\n",
    "print (b.difference(a))"
   ]
  },
  {
   "cell_type": "code",
   "execution_count": 75,
   "id": "365df429-0191-4805-bb5e-e543d4880749",
   "metadata": {},
   "outputs": [
    {
     "name": "stdout",
     "output_type": "stream",
     "text": [
      "a is a subset of b\n"
     ]
    }
   ],
   "source": [
    "#Question 12\n",
    "# Check if a set is a subset of another set.\n",
    "a = {1, 2, 3}\n",
    "b = {1, 2, 3, 4, 5}\n",
    "\n",
    "subset = a.issubset(b)\n",
    "if subset:\n",
    "    print(\"a is a subset of b\")\n",
    "else:\n",
    "    print(\"a is not a subset of b\")\n",
    "\n"
   ]
  },
  {
   "cell_type": "code",
   "execution_count": 76,
   "id": "6053413d-53f4-49b1-a80c-90eed768bacc",
   "metadata": {},
   "outputs": [
    {
     "name": "stdout",
     "output_type": "stream",
     "text": [
      "a is not a superset of b\n"
     ]
    }
   ],
   "source": [
    "#Question 13\n",
    "# Check if a set is a superset of another set\n",
    "\n",
    "a = {1, 2, 3}\n",
    "b = {1, 2, 3, 4, 5}\n",
    "\n",
    "superset = a.issuperset(b)\n",
    "if superset:\n",
    "    print(\" a is superset of b\")\n",
    "else:\n",
    "    print(\"a is not a superset of b\")"
   ]
  },
  {
   "cell_type": "code",
   "execution_count": 78,
   "id": "6566cca7-7e5b-43ec-8a80-6a65b8fbcb19",
   "metadata": {},
   "outputs": [
    {
     "name": "stdout",
     "output_type": "stream",
     "text": [
      "{1, 2, 3, 4}\n"
     ]
    }
   ],
   "source": [
    "#Question 14\n",
    "# Create a set from a list\n",
    "\n",
    "l = [1,2,3,4]\n",
    "s = set(l)\n",
    "print(s)"
   ]
  },
  {
   "cell_type": "code",
   "execution_count": 79,
   "id": "aafe4a40-cb94-497a-ac4a-68d798412156",
   "metadata": {},
   "outputs": [
    {
     "name": "stdout",
     "output_type": "stream",
     "text": [
      "[1, 2, 3, 4]\n"
     ]
    }
   ],
   "source": [
    "#Question 15\n",
    "# Convert a set to a list\n",
    "\n",
    "s = {1, 2, 3, 4}\n",
    "l = list(s)\n",
    "print(l)"
   ]
  },
  {
   "cell_type": "code",
   "execution_count": 83,
   "id": "15475959-f7e6-468f-b506-7ee741d05c85",
   "metadata": {},
   "outputs": [
    {
     "name": "stdout",
     "output_type": "stream",
     "text": [
      "The removed element is 3 new set is {1, 2, 4}\n"
     ]
    }
   ],
   "source": [
    "#Question 16\n",
    "# Remove a random element from a set\n",
    "\n",
    "import random\n",
    "\n",
    "s = {1, 2, 3, 4}\n",
    "random_element = random.randint(1,len(s))\n",
    "s.remove(random_element)\n",
    "print(f\"The removed element is {random_element} new set is {s}\")"
   ]
  },
  {
   "cell_type": "code",
   "execution_count": 92,
   "id": "14060095-4214-4c4b-8f26-34cb1211baef",
   "metadata": {},
   "outputs": [
    {
     "name": "stdout",
     "output_type": "stream",
     "text": [
      "The set after pop is {2, 3, 4}\n"
     ]
    }
   ],
   "source": [
    "#Question 17\n",
    "# Pop an element from a set\n",
    "\n",
    "s = {1, 2, 3, 4}\n",
    "s.pop()\n",
    "print(f\"The set after pop is {s}\")\n"
   ]
  },
  {
   "cell_type": "code",
   "execution_count": 93,
   "id": "d3276c90-0702-4ece-b3d1-162fa25a6225",
   "metadata": {},
   "outputs": [
    {
     "name": "stdout",
     "output_type": "stream",
     "text": [
      "There are no elements in common\n"
     ]
    }
   ],
   "source": [
    "#Question 18\n",
    "#  Check if two sets have no elements in common\n",
    "\n",
    "a = {1,2,3,4}\n",
    "b = {7,8,9}\n",
    "\n",
    "flag = 0\n",
    "\n",
    "for i  in a:\n",
    "    if i in b:\n",
    "        flag = 1\n",
    "        \n",
    "if flag ==1:\n",
    "    print(\"There are elements in common\")\n",
    "else:\n",
    "    print(\"There are no elements in common\")\n"
   ]
  },
  {
   "cell_type": "code",
   "execution_count": 94,
   "id": "55f3e5bd-f3e4-4c20-8717-ad60318ed23b",
   "metadata": {},
   "outputs": [
    {
     "name": "stdout",
     "output_type": "stream",
     "text": [
      "The symmetric difference {3, 4, 7, 8, 9}\n"
     ]
    }
   ],
   "source": [
    "#Question 19\n",
    "# Find the symmetric difference between two sets.\n",
    "\n",
    "a = {1,2,3,4}\n",
    "b = {7,8,9,1,2}\n",
    "\n",
    "print(f\"The symmetric difference {a.symmetric_difference(b)}\")"
   ]
  },
  {
   "cell_type": "code",
   "execution_count": 97,
   "id": "092b2f98-8aef-41c0-97ce-80df9228008a",
   "metadata": {},
   "outputs": [
    {
     "name": "stdout",
     "output_type": "stream",
     "text": [
      "The updated set is {1, 2, 3, 4, 7, 8, 9}\n"
     ]
    }
   ],
   "source": [
    "#Question 20\n",
    "# Update a set with elements from another set.\n",
    "\n",
    "a = {1,2,3,4}\n",
    "b = {7,8,9,1,2}\n",
    "a.update(b)\n",
    "print(f\"The updated set is {a}\")\n",
    "\n",
    "\n",
    "\n"
   ]
  },
  {
   "cell_type": "code",
   "execution_count": 103,
   "id": "6f038090-7f2a-4e80-a790-a93d46056db4",
   "metadata": {},
   "outputs": [
    {
     "name": "stdout",
     "output_type": "stream",
     "text": [
      "{2, 3, 5, 7, 11}\n"
     ]
    }
   ],
   "source": [
    "#Question 21\n",
    "# Create a set of the first 5 prime numbers.\n",
    "\n",
    " \n",
    "prime_list = set()\n",
    "for num in range(2,13):\n",
    "    prime = True\n",
    "    for i in range(2,num):\n",
    "        if (num%i==0):\n",
    "            prime = False\n",
    "    if prime:\n",
    "        prime_list.add(num)\n",
    "print(prime_list)"
   ]
  },
  {
   "cell_type": "code",
   "execution_count": 106,
   "id": "d2ae200c-063d-4d66-8049-eddd0b5a82b1",
   "metadata": {},
   "outputs": [
    {
     "name": "stdout",
     "output_type": "stream",
     "text": [
      "The sets are not identical\n"
     ]
    }
   ],
   "source": [
    "#Question 22\n",
    "# Check if two sets are identical.\n",
    "\n",
    "a = {1,2,3,4}\n",
    "b = {1,2,3,8}\n",
    "x = a.symmetric_difference(b)\n",
    "if x==set():\n",
    "    print(\"The two set are identical\")\n",
    "else:\n",
    "    print(\"The sets are not identical\")"
   ]
  },
  {
   "cell_type": "code",
   "execution_count": 107,
   "id": "685c8288-ca9f-462f-a7c5-eb0dc6d93ae7",
   "metadata": {},
   "outputs": [
    {
     "name": "stdout",
     "output_type": "stream",
     "text": [
      "frozenset({'orange', 'white', 'red'})\n"
     ]
    },
    {
     "ename": "AttributeError",
     "evalue": "'frozenset' object has no attribute 'append'",
     "output_type": "error",
     "traceback": [
      "\u001b[0;31m---------------------------------------------------------------------------\u001b[0m",
      "\u001b[0;31mAttributeError\u001b[0m                            Traceback (most recent call last)",
      "Cell \u001b[0;32mIn[107], line 7\u001b[0m\n\u001b[1;32m      5\u001b[0m colors \u001b[38;5;241m=\u001b[39m \u001b[38;5;28mfrozenset\u001b[39m([\u001b[38;5;124m\"\u001b[39m\u001b[38;5;124mred\u001b[39m\u001b[38;5;124m\"\u001b[39m, \u001b[38;5;124m\"\u001b[39m\u001b[38;5;124mwhite\u001b[39m\u001b[38;5;124m\"\u001b[39m, \u001b[38;5;124m\"\u001b[39m\u001b[38;5;124morange\u001b[39m\u001b[38;5;124m\"\u001b[39m])\n\u001b[1;32m      6\u001b[0m \u001b[38;5;28mprint\u001b[39m(colors)\n\u001b[0;32m----> 7\u001b[0m \u001b[43mcolors\u001b[49m\u001b[38;5;241;43m.\u001b[39;49m\u001b[43mappend\u001b[49m(\u001b[38;5;124m\"\u001b[39m\u001b[38;5;124mblue\u001b[39m\u001b[38;5;124m\"\u001b[39m)\n\u001b[1;32m      8\u001b[0m \u001b[38;5;28mprint\u001b[39m(colors)\n",
      "\u001b[0;31mAttributeError\u001b[0m: 'frozenset' object has no attribute 'append'"
     ]
    }
   ],
   "source": [
    "#Question 23\n",
    "# Create a frozen set\n",
    "\n",
    "\n",
    "colors = frozenset([\"red\", \"white\", \"orange\"])\n",
    "print(colors)\n",
    "colors.append(\"blue\")\n",
    "print(colors)"
   ]
  },
  {
   "cell_type": "code",
   "execution_count": 108,
   "id": "2d53b5aa-56d3-4fb9-84c8-7bd205c6a768",
   "metadata": {},
   "outputs": [
    {
     "name": "stdout",
     "output_type": "stream",
     "text": [
      "There are no elements in common so it is a disjoint set\n"
     ]
    }
   ],
   "source": [
    "#Question 24\n",
    "# Check if a set is disjoint with another set\n",
    "a = {1,2,3,4}\n",
    "b = {7,8,9}\n",
    "\n",
    "flag = 0\n",
    "\n",
    "for i  in a:\n",
    "    if i in b:\n",
    "        flag = 1\n",
    "        \n",
    "if flag ==1:\n",
    "    print(\"There are elements in common so it is not disjoint set \")\n",
    "else:\n",
    "    print(\"There are no elements in common so it is a disjoint set\")"
   ]
  },
  {
   "cell_type": "code",
   "execution_count": 109,
   "id": "630b6e7f-2a00-405a-8e6a-77dc0007d3cd",
   "metadata": {},
   "outputs": [
    {
     "name": "stdout",
     "output_type": "stream",
     "text": [
      "The square of numbers from 1 to 5 are {1, 4, 9, 16, 25}\n"
     ]
    }
   ],
   "source": [
    "#Question 25\n",
    "# Create a set of squares of numbers from 1 to 5\n",
    "\n",
    "a = set()\n",
    "for i in range(1,6):\n",
    "    a.add(i**2)\n",
    "print(f\"The square of numbers from 1 to 5 are {a}\")"
   ]
  },
  {
   "cell_type": "code",
   "execution_count": 110,
   "id": "bab7e697-d2f6-43d0-bcac-1d82aed4714a",
   "metadata": {},
   "outputs": [
    {
     "name": "stdout",
     "output_type": "stream",
     "text": [
      "The even numbers are {2, 34, 4, 6, 8}\n"
     ]
    }
   ],
   "source": [
    "#Question 26\n",
    "# Filter out all even numbers from a set.\n",
    "\n",
    "even = set()\n",
    "a = {1,2,3,4,6,8,9,34,33}\n",
    "for i in a:\n",
    "    if i%2==0:\n",
    "        even.add(i)\n",
    "print(\"The even numbers are\",even)\n"
   ]
  },
  {
   "cell_type": "code",
   "execution_count": 112,
   "id": "2b9cb153-2a40-41b5-a441-a71ac636a3f0",
   "metadata": {},
   "outputs": [
    {
     "name": "stdout",
     "output_type": "stream",
     "text": [
      "{2, 66, 4, 68, 6, 8, 12, 16, 18}\n"
     ]
    }
   ],
   "source": [
    "#Question 27\n",
    "# Multiply all elements in a set by 2.\n",
    "\n",
    "multiplied = set()\n",
    "a = {1,2,3,4,6,8,9,34,33}\n",
    "for i in a:\n",
    "    multiplied.add(i*2)\n",
    "print(multiplied)"
   ]
  },
  {
   "cell_type": "code",
   "execution_count": 113,
   "id": "545cfe94-b972-48bc-ba30-c8046dc384b1",
   "metadata": {},
   "outputs": [
    {
     "name": "stdout",
     "output_type": "stream",
     "text": [
      "The randomised set is {65, 2, 98, 7, 75, 53, 54, 58, 95}\n"
     ]
    }
   ],
   "source": [
    "#Question 28\n",
    "# Create a set of random numbers.\n",
    "import random\n",
    "\n",
    "r_num = set()\n",
    "for i in range(0,10):\n",
    "    random_numbers = random.randint(0,100)\n",
    "    r_num.add(random_numbers)\n",
    "print(f\"The randomised set is {r_num}\")\n"
   ]
  },
  {
   "cell_type": "code",
   "execution_count": 114,
   "id": "72adeed4-2b5b-47c6-969e-34fc018e53af",
   "metadata": {},
   "outputs": [
    {
     "name": "stdout",
     "output_type": "stream",
     "text": [
      "The set is empty\n"
     ]
    }
   ],
   "source": [
    "#Question 29\n",
    "# Check if a set is empty\n",
    "a = set()\n",
    "if len(a)==0:\n",
    "    print(\"The set is empty\")\n",
    "else:\n",
    "    print(\"The set is not empty\")"
   ]
  },
  {
   "cell_type": "code",
   "execution_count": 121,
   "id": "2f397d49-ffc3-40d1-9afb-076e6cfc3bef",
   "metadata": {},
   "outputs": [
    {
     "name": "stdout",
     "output_type": "stream",
     "text": [
      "{1, 2, 3, 4, 34, 6, 33, 8, 9, frozenset({1, 2})}\n"
     ]
    }
   ],
   "source": [
    "#Question 30\n",
    "# Create a nested set \n",
    "\n",
    "a = {1,2,3,4,6,8,9,34,33}\n",
    "b= frozenset([1,2])\n",
    "a.add(b)\n",
    "print(a)"
   ]
  },
  {
   "cell_type": "code",
   "execution_count": 122,
   "id": "fc001fd7-4a78-4034-89bc-b227a045418b",
   "metadata": {},
   "outputs": [
    {
     "name": "stdout",
     "output_type": "stream",
     "text": [
      "{1, 3, 4, 34, 6, 33, 8, 9}\n"
     ]
    }
   ],
   "source": [
    "#Question 31\n",
    "# Remove an element from a set using the discard method\n",
    "\n",
    "a = {1,2,3,4,6,8,9,34,33}\n",
    "a.discard(2)\n",
    "print(a)"
   ]
  },
  {
   "cell_type": "code",
   "execution_count": 123,
   "id": "37838eee-9644-4655-b6c1-08b1ce30f2f7",
   "metadata": {},
   "outputs": [
    {
     "name": "stdout",
     "output_type": "stream",
     "text": [
      "The sets are not equal\n"
     ]
    }
   ],
   "source": [
    "#Question 32\n",
    "# Compare two sets.\n",
    "a = {1,2,3,4,6,8,9,34,33}\n",
    "b = {5,6,7,8,9}\n",
    "if a==b:\n",
    "    print(\"The sets are equal\")\n",
    "else:\n",
    "    print(\"The sets are not equal\")\n",
    " "
   ]
  },
  {
   "cell_type": "code",
   "execution_count": 124,
   "id": "a833a9fe-6024-4f41-ba54-4770d09eba44",
   "metadata": {},
   "outputs": [
    {
     "name": "stdin",
     "output_type": "stream",
     "text": [
      "Enter the string sajeeth\n"
     ]
    },
    {
     "name": "stdout",
     "output_type": "stream",
     "text": [
      "{'t', 'e', 'a', 'h', 'j', 's'}\n"
     ]
    }
   ],
   "source": [
    "#Question 33\n",
    "#Create a set from a string.\n",
    "\n",
    "a = set()\n",
    "s = input(\"Enter the string\")\n",
    "for i in s:\n",
    "    a.add(i)\n",
    "print(a)\n",
    "    "
   ]
  },
  {
   "cell_type": "code",
   "execution_count": 125,
   "id": "75ca031c-4913-402c-bcc9-e89f6e7e0620",
   "metadata": {},
   "outputs": [
    {
     "name": "stdout",
     "output_type": "stream",
     "text": [
      "{1, 2, 3, 4, 5}\n"
     ]
    }
   ],
   "source": [
    "#Question 34\n",
    "# Convert a set of strings to a set of integers.\n",
    "\n",
    "integer_set = set()\n",
    "s = {'1','2','3','4','5'}\n",
    "for i in s:\n",
    "    integer_set.add(int(i))\n",
    "print(integer_set)"
   ]
  },
  {
   "cell_type": "code",
   "execution_count": 127,
   "id": "62f29656-8ed5-472b-8fa0-19488661705f",
   "metadata": {},
   "outputs": [
    {
     "name": "stdout",
     "output_type": "stream",
     "text": [
      "{'3', '5', '2', '4', '1'}\n"
     ]
    }
   ],
   "source": [
    "#Question 35\n",
    "#Convert a set of integers to a set of strings.\n",
    "s = {1, 2, 3, 4, 5}\n",
    "string_set = set()\n",
    "for i in s:\n",
    "    string_set.add(str(i))\n",
    "print(string_set)\n"
   ]
  },
  {
   "cell_type": "code",
   "execution_count": 128,
   "id": "376fbade-0d9b-407f-8921-9e1eb1ddff75",
   "metadata": {},
   "outputs": [
    {
     "name": "stdout",
     "output_type": "stream",
     "text": [
      "{1, 2, 3, 4}\n"
     ]
    }
   ],
   "source": [
    "#Question 36\n",
    "# Create a set from a tuple.\n",
    "t = (1,2,3,4)\n",
    "s =set(t)\n",
    "print(s)\n"
   ]
  },
  {
   "cell_type": "code",
   "execution_count": 129,
   "id": "f0cdba17-9612-4a87-80e9-f9d74440d035",
   "metadata": {},
   "outputs": [
    {
     "name": "stdout",
     "output_type": "stream",
     "text": [
      "(1, 2, 3, 4)\n"
     ]
    }
   ],
   "source": [
    "#Question 37\n",
    "# Convert a set to a tuple.\n",
    "s = {1, 2, 3, 4}\n",
    "t =tuple(s)\n",
    "print(t)\n"
   ]
  },
  {
   "cell_type": "code",
   "execution_count": 131,
   "id": "e5d79219-bd07-4b3f-ba3b-ca3db77a18a0",
   "metadata": {},
   "outputs": [
    {
     "name": "stdout",
     "output_type": "stream",
     "text": [
      "The maximum value is 4\n"
     ]
    }
   ],
   "source": [
    "#Question 38\n",
    "# Find the maximum value in a set.\n",
    "s = {1, 2, 3, 4}\n",
    "maxi = 0\n",
    "for i in s:\n",
    "    if i>maxi:\n",
    "        maxi = i\n",
    "print(\"The maximum value is\",maxi)"
   ]
  },
  {
   "cell_type": "code",
   "execution_count": 133,
   "id": "373541e5-d31a-48ff-97cc-a2c09e032ade",
   "metadata": {},
   "outputs": [
    {
     "name": "stdout",
     "output_type": "stream",
     "text": [
      "The maximum value is 1\n"
     ]
    }
   ],
   "source": [
    "#Question 39\n",
    "#Find the minimum value in a set.\n",
    "\n",
    "s = {1, 2, 3, 4}\n",
    "mini = 1\n",
    "for i in s:\n",
    "    if i<mini:\n",
    "        mini = i\n",
    "print(\"The maximum value is\",mini)"
   ]
  },
  {
   "cell_type": "code",
   "execution_count": 136,
   "id": "cf6c8679-c4fe-47ee-b76e-245a4d42235b",
   "metadata": {},
   "outputs": [
    {
     "name": "stdin",
     "output_type": "stream",
     "text": [
      "Enter the input 4,5,6\n"
     ]
    },
    {
     "data": {
      "text/plain": [
       "{',', '4', '5', '6'}"
      ]
     },
     "execution_count": 136,
     "metadata": {},
     "output_type": "execute_result"
    }
   ],
   "source": [
    "#Question 40\n",
    "# Create a set from user input.\n",
    "a = input(\"Enter the input\")\n",
    "set(a)"
   ]
  },
  {
   "cell_type": "code",
   "execution_count": 138,
   "id": "031d348e-910c-4cda-a626-ff25ff33128f",
   "metadata": {},
   "outputs": [
    {
     "name": "stdout",
     "output_type": "stream",
     "text": [
      "The intersection of the sets is empty\n"
     ]
    }
   ],
   "source": [
    "#Question 41\n",
    "# Check if the intersection of two sets is empty\n",
    "a = {1,2,3,4}\n",
    "b = {5,6,7,8}\n",
    "x = a.intersection(b)\n",
    "if x==set():\n",
    "    print(\"The intersection of the sets is empty\")\n",
    "else:\n",
    "    print(f\"The intersection is {x}\") "
   ]
  },
  {
   "cell_type": "code",
   "execution_count": 8,
   "id": "4f0f5d9c-7e2b-4bb3-b20d-dc81c6322db5",
   "metadata": {},
   "outputs": [
    {
     "name": "stdin",
     "output_type": "stream",
     "text": [
      "Enter the value of n: 5\n"
     ]
    },
    {
     "name": "stdout",
     "output_type": "stream",
     "text": [
      "{1, 2, 3, 5}\n"
     ]
    }
   ],
   "source": [
    "#Question 42\n",
    "# Create a set of the first 5 Fibonacci numbers.\n",
    "\n",
    "s = set()\n",
    "n = int(input(\"Enter the value of n:\"))\n",
    "n1,n2 = 0,1\n",
    "total = 0\n",
    "if n<=0:\n",
    "    print(\"please enter a number greater than 0\")\n",
    "else:\n",
    "    for i in range(0,n):\n",
    "        n1=n2\n",
    "        n2=total\n",
    "        total = n1+n2\n",
    "        s.add(total)\n",
    "print(s)"
   ]
  },
  {
   "cell_type": "code",
   "execution_count": 4,
   "id": "d7d6966d-e646-4857-8c10-ec482f1ee53d",
   "metadata": {},
   "outputs": [
    {
     "name": "stdout",
     "output_type": "stream",
     "text": [
      "The list without removing duplicates [1, 2, 3, 4, 5, 6, 1, 2, 3, 43, 2, 33, 44]\n",
      "The list after removing duplicates [1, 2, 3, 4, 5, 6, 33, 43, 44]\n"
     ]
    }
   ],
   "source": [
    "#Question 43\n",
    "# Remove duplicates from a list using sets.\n",
    "\n",
    "l = [1,2,3,4,5,6,1,2,3,43,2,33,44]\n",
    "\n",
    "print(f\"The list without removing duplicates {l}\")\n",
    "\n",
    "x = set(l)\n",
    "print(\"The list after removing duplicates\",list(x))"
   ]
  },
  {
   "cell_type": "code",
   "execution_count": 6,
   "id": "481e6bdc-bfde-44b6-88ca-266add8655fb",
   "metadata": {},
   "outputs": [
    {
     "name": "stdout",
     "output_type": "stream",
     "text": [
      "The sets have same elements\n"
     ]
    }
   ],
   "source": [
    "#Question 44\n",
    "# Check if two sets have the same elements, regardless of their count.\n",
    "\n",
    "a = {1,2,3,4}\n",
    "b = {1,2,3,4,4}\n",
    "\n",
    "if a.issubset(b):\n",
    "    print(\"The sets have same elements\")\n",
    "else:\n",
    "    print(\"The sets doesnt have same elements\")\n"
   ]
  },
  {
   "cell_type": "code",
   "execution_count": 14,
   "id": "526ac0da-434e-4783-89e1-eb35cfc7bd8e",
   "metadata": {},
   "outputs": [
    {
     "name": "stdin",
     "output_type": "stream",
     "text": [
      "Enter the value of n: 4\n"
     ]
    },
    {
     "name": "stdout",
     "output_type": "stream",
     "text": [
      "The set with n powers of two is {32, 2, 4, 8, 16}\n"
     ]
    }
   ],
   "source": [
    "#Question 45\n",
    "# Create a set of the first `n` powers of 2\n",
    "\n",
    "squre_set = set()\n",
    "n = int(input(\"Enter the value of n:\"))\n",
    "\n",
    "\n",
    "for i in range(1,n+2):\n",
    "    squre_set.add(2**i)\n",
    "print(f\"The set with n powers of two is {squre_set}\")"
   ]
  },
  {
   "cell_type": "code",
   "execution_count": 18,
   "id": "c5ca42d8-630a-4c25-a277-6b481e563b02",
   "metadata": {},
   "outputs": [
    {
     "name": "stdout",
     "output_type": "stream",
     "text": [
      "The common elements are {1, 2, 3, 4}\n"
     ]
    }
   ],
   "source": [
    "#Question 46\n",
    "# Find the common elements between a set and a list.\n",
    "\n",
    "l = [1,2,3,4,5,6]\n",
    "s = {1,2,3,4,33,44}\n",
    "\n",
    "x = s.intersection(set(l))\n",
    "print(f\"The common elements are {x}\")\n"
   ]
  },
  {
   "cell_type": "code",
   "execution_count": 19,
   "id": "5852081e-6def-47ab-9199-b353cc26b1a4",
   "metadata": {},
   "outputs": [
    {
     "name": "stdin",
     "output_type": "stream",
     "text": [
      "Enter the value of n: 5\n"
     ]
    },
    {
     "name": "stdout",
     "output_type": "stream",
     "text": [
      "{1, 10, 3, 6}\n"
     ]
    }
   ],
   "source": [
    "#Question 47\n",
    "# Create a set of the first `n` triangular numbers\n",
    "\n",
    "triangular_numbers = set()\n",
    "total = 0\n",
    "n = int(input(\"Enter the value of n:\"))\n",
    "\n",
    "for i in range(1,n):\n",
    "    total +=i\n",
    "    triangular_numbers.add(total)\n",
    "print(triangular_numbers)"
   ]
  },
  {
   "cell_type": "code",
   "execution_count": 21,
   "id": "449f0d1a-cde0-4731-90e1-6aa1e8396cd3",
   "metadata": {},
   "outputs": [
    {
     "name": "stdout",
     "output_type": "stream",
     "text": [
      "The set is a subset of the set\n"
     ]
    }
   ],
   "source": [
    "#Question 48\n",
    "# Check if a set contains another set as a subset.\n",
    "\n",
    "setA = {1, 2, 3, 4, 5}\n",
    "setB = {1, 2, 3}\n",
    "\n",
    "if setB.issubset(setA):\n",
    "    print(\"The set is a subset of the set\")\n",
    "else:\n",
    "    print(\"The set is not a subset of the set\")"
   ]
  },
  {
   "cell_type": "code",
   "execution_count": 30,
   "id": "53e6d7d0-1a3b-4d10-bd2b-acd82669e771",
   "metadata": {},
   "outputs": [
    {
     "name": "stdin",
     "output_type": "stream",
     "text": [
      "Enter the value n: 6\n"
     ]
    },
    {
     "name": "stdout",
     "output_type": "stream",
     "text": [
      "{0, 1, '1', '0'}\n"
     ]
    }
   ],
   "source": [
    "#Question 49\n",
    "# Create a set of alternating 1s and 0s of length `n`.\n",
    "\n",
    "s = set()\n",
    "n = int(input(\"Enter the value n:\"))\n",
    "\n",
    "for i in range(0,n):\n",
    "    if i%2==0:\n",
    "        s.add(1)\n",
    "    else:\n",
    "        s.add(0)\n",
    "print(s)"
   ]
  },
  {
   "cell_type": "code",
   "execution_count": 28,
   "id": "a538a39d-7b76-4775-a6d4-93c8dcd5948a",
   "metadata": {},
   "outputs": [
    {
     "name": "stdout",
     "output_type": "stream",
     "text": [
      "{1, 2, 3, 4, 'a', 'd', 'c', 'b'}\n"
     ]
    }
   ],
   "source": [
    "#Question 50\n",
    "# Merge multiple sets into one.\n",
    "\n",
    "s = {1,2,3,4}\n",
    "s1 = {'a','b','c','d'}\n",
    "\n",
    "x = s.union(s1)\n",
    "print(x)"
   ]
  },
  {
   "cell_type": "code",
   "execution_count": null,
   "id": "863c0f2f-713f-4327-a425-2b8c50826ca7",
   "metadata": {},
   "outputs": [],
   "source": []
  }
 ],
 "metadata": {
  "kernelspec": {
   "display_name": "Python 3 (ipykernel)",
   "language": "python",
   "name": "python3"
  },
  "language_info": {
   "codemirror_mode": {
    "name": "ipython",
    "version": 3
   },
   "file_extension": ".py",
   "mimetype": "text/x-python",
   "name": "python",
   "nbconvert_exporter": "python",
   "pygments_lexer": "ipython3",
   "version": "3.10.8"
  }
 },
 "nbformat": 4,
 "nbformat_minor": 5
}
